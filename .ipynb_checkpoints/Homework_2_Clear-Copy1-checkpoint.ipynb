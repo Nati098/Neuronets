{
 "cells": [
  {
   "cell_type": "code",
   "execution_count": null,
   "metadata": {
    "collapsed": true
   },
   "outputs": [],
   "source": [
    "print(X_val.shape)\n",
    "print(X_train.shape, test_no_classes.shape, Y_train.shape)\n",
    "print(X_train[0], X_train[1])"
   ]
  },
  {
   "cell_type": "code",
   "execution_count": 1,
   "metadata": {
    "collapsed": true
   },
   "outputs": [],
   "source": [
    "import numpy as np\n",
    "import PIL\n",
    "import random\n",
    "from IPython.core.display import Image, display\n",
    "from sklearn.preprocessing import OneHotEncoder\n",
    "\n",
    "import matplotlib.pyplot as plt\n",
    "%matplotlib inline\n",
    "\n",
    "np.random.seed(13)\n",
    "\n",
    "num_neuro_1 = 10\n",
    "num_neuro_2 = 10\n",
    "num_neuro_3 = 5\n",
    "\n",
    "RES_DIR = './results/'\n",
    "DATA_DIR = './CCPP/'\n",
    "HOME_DIR = './'"
   ]
  },
  {
   "cell_type": "code",
   "execution_count": 2,
   "metadata": {},
   "outputs": [
    {
     "name": "stdout",
     "output_type": "stream",
     "text": [
      "(32, 32, 3)\n"
     ]
    },
    {
     "data": {
      "image/png": "[encoded data removed]",
      "text/plain": [
       "<PIL.Image.Image image mode=RGB size=32x32 at 0x24ACEDF7D68>"
      ]
     },
     "metadata": {},
     "output_type": "display_data"
    },
    {
     "name": "stdout",
     "output_type": "stream",
     "text": [
      "(32, 32, 3)\n"
     ]
    },
    {
     "data": {
      "image/png": "[encoded data removed]",
      "text/plain": [
       "<PIL.Image.Image image mode=RGB size=32x32 at 0x24ADBA0EAC8>"
      ]
     },
     "metadata": {},
     "output_type": "display_data"
    },
    {
     "name": "stdout",
     "output_type": "stream",
     "text": [
      "(50000, 3073) (10000, 3072)\n"
     ]
    }
   ],
   "source": [
    "train = pd.read_csv(HOME_DIR+'split_data/train_set.csv').values\n",
    "batch_size = train.shape[0]\n",
    "in_size = train.shape[1]\n",
    "print(train.shape)"
   ]
  },
  {
   "cell_type": "code",
   "execution_count": 3,
   "metadata": {
    "collapsed": true
   },
   "outputs": [],
   "source": [
    "class Dense:\n",
    "    def __init__(self, in_size, out_size):\n",
    "        np.random.seed(11)\n",
    "        self.W = np.random.normal(scale=0.01, size=(out_size, in_size))\n",
    "        self.b = np.random.normal(scale=0.01, size=(out_size))\n",
    "        \n",
    "    def forward(self, x):\n",
    "        self.x = x\n",
    "        return (self.b + self.W.dot(self.x))\n",
    "    \n",
    "    def backward(self, dz, lr=0.001, rgr = 0.01):\n",
    "        self.dW = np.outer(dz, self.x)\n",
    "        self.db = dz\n",
    "        \n",
    "        self.dx = dz.dot(self.W) \n",
    "        \n",
    "        self.W -= lr*(self.dW + rgr*self.W)\n",
    "        self.db -= lr*(self.b + rgr*self.b)\n",
    "        \n",
    "        return self.dx"
   ]
  },
  {
   "cell_type": "code",
   "execution_count": 4,
   "metadata": {
    "collapsed": true
   },
   "outputs": [],
   "source": [
    "class ReLU:\n",
    "    def forward(self, x):\n",
    "        self.x = x\n",
    "        return np.maximum(0, x)\n",
    "    \n",
    "    def backward(self, dz):\n",
    "        dz[self.x < 0] = 0\n",
    "        return dz"
   ]
  },
  {
   "cell_type": "code",
   "execution_count": 5,
   "metadata": {
    "collapsed": true
   },
   "outputs": [],
   "source": [
    "class Softmax:\n",
    "    def forward(self, x):\n",
    "        self.x = x\n",
    "        exps = np.exp(x)\n",
    "        return exps / np.sum(exps)\n",
    "    \n",
    "    def backward(self, dz):\n",
    "        sm = self.forward(self.x)\n",
    "        self.lp = (np.eye(sm.shape[0], sm.shape[0]) - sm).T\n",
    "        self.lp2 = sm * self.lp\n",
    "        return np.dot(dz, self.lp2)"
   ]
  },
  {
   "cell_type": "code",
   "execution_count": 6,
   "metadata": {
    "collapsed": true
   },
   "outputs": [],
   "source": [
    "class CrossEntropy:\n",
    "    def forward(self, y_true, y_hat):\n",
    "        self.y_true = y_true\n",
    "        self.y_hat = y_hat\n",
    "        return (-np.sum(y_true*np.log(y_hat)))\n",
    "    \n",
    "    def backward(self, dz):\n",
    "        return (-dz*self.y_true/self.y_hat)"
   ]
  },
  {
   "cell_type": "code",
   "execution_count": 7,
   "metadata": {
    "collapsed": true
   },
   "outputs": [],
   "source": [
    "class CifarNet:\n",
    "    def __init__(self, in_size=3072, out_size=100):\n",
    "        self.d1 = Dense(in_size, 50)\n",
    "        self.r1 = ReLU()\n",
    "        self.d2 = Dense(50, 50)\n",
    "        self.r2 = ReLU()\n",
    "        self.d3 = Dense (50, 100)\n",
    "        self.s3 = Softmax()\n",
    "    \n",
    "    def forward(self, x):\n",
    "        y = self.d1.forward(x)\n",
    "        y = self.r1.forward(y)\n",
    "        y = self.d2.forward(y)\n",
    "        y = self.r2.forward(y)\n",
    "        y = self.d3.forward(y)\n",
    "        y = self.s3.forward(y)\n",
    "        self.y = y\n",
    "        return y\n",
    "    \n",
    "    def backward(self, dz, lr, rr):\n",
    "        dz = self.s3.backward(dz)\n",
    "        dz = self.d3.backward(dz, lr, rr)\n",
    "        dz = self.r2.backward(dz)\n",
    "        dz = self.d2.backward(dz, lr, rr)\n",
    "        dz = self.r1.backward(dz)\n",
    "        dz = self.d1.backward(dz, lr, rr)\n",
    "        return dz"
   ]
  },
  {
   "cell_type": "code",
   "execution_count": 8,
   "metadata": {
    "collapsed": true
   },
   "outputs": [],
   "source": [
    "def acc_check(net, validation_X, validation_Y):\n",
    "    acc = 0.\n",
    "    for i in range(len(validation_X)):\n",
    "        y_pred = net.forward(validation_X[i])\n",
    "        cls_pred = np.argmax(y_pred)\n",
    "        if(cls_pred == validation_Y[i]):\n",
    "            acc += 1\n",
    "    return acc / validation_X.shape[0]\n",
    "\n",
    "# pca\n",
    "def pca_set(X, mean, std):\n",
    "    X = (X - mean)/std\n",
    "    cov = np.dot(X.T, X) / X.shape[0]\n",
    "    U,S,V = np.linalg.svd(cov)\n",
    "    Xrot_reduced = np.dot(X, U[:,:256])\n",
    "    return Xrot_reduced\n",
    "\n",
    "# normalization\n",
    "def normalize(X, mean, std):\n",
    "    return (X - mean)/std\n",
    "\n",
    "# получение батча для обучения\n",
    "def get_batch(X, Y, batch_size):\n",
    "    _, x_batch, _, y_batch = train_test_split(X, Y, test_size = batch_size/X.shape[0])\n",
    "    return x_batch, y_batch"
   ]
  },
  {
   "cell_type": "code",
   "execution_count": 9,
   "metadata": {
    "collapsed": true
   },
   "outputs": [],
   "source": [
    "valid_data = pd.read_csv(HOME_DIR+'split_data/val_set.csv').values\n",
    "test_data = pd.read_csv(HOME_DIR+'split_data/test_set.csv').values\n",
    "\n",
    "X_train, Y_train = train[:, 0:in_size], train[:, in_size]\n",
    "X_val, Y_val = valid_data[:, 0:in_size], valid_data[:, in_size]\n",
    "X_test, Y_test = test_data[:, 0:in_size], test_data[:, in_size]"
   ]
  },
  {
   "cell_type": "code",
   "execution_count": 47,
   "metadata": {
    "collapsed": true
   },
   "outputs": [],
   "source": [
    "net = CifarNet(in_size=X_train.shape[1])\n",
    "loss = CrossEntropy()\n",
    "loss_list = []\n",
    "\n",
    "# print(net.d1.W)"
   ]
  },
  {
   "cell_type": "code",
   "execution_count": 48,
   "metadata": {
    "collapsed": true
   },
   "outputs": [],
   "source": [
    "import telepot\n",
    "bot = telepot.Bot('567990957:AAE40n4HsPyvvWGKtsUAZ6AFqyWL8ksKMyQ')"
   ]
  },
  {
   "cell_type": "code",
   "execution_count": 49,
   "metadata": {
    "collapsed": true
   },
   "outputs": [],
   "source": [
    "# обучаем сеть ... \n",
    "learn_rate = 1e-3\n",
    "reg_rate = 1e-4\n",
    "decay = 0.95   # 0.9???\n",
    "batch_size = 25000"
   ]
  },
  {
   "cell_type": "code",
   "execution_count": 52,
   "metadata": {
    "scrolled": false
   },
   "outputs": [
    {
     "name": "stdout",
     "output_type": "stream",
     "text": [
      "0 \n",
      "0: acc_check = 0.198\n",
      "1 2 3 \n",
      "3: acc_check = 0.2009\n",
      "4 5 "
     ]
    },
    {
     "data": {
      "image/png": "[encoded data removed]",
      "text/plain": [
       "<matplotlib.figure.Figure at 0x24adb760320>"
      ]
     },
     "metadata": {},
     "output_type": "display_data"
    }
   ],
   "source": [
    "for epoch in range(33):\n",
    "    buffer = 0\n",
    "    \n",
    "    x, y = get_batch(X_train, Y_train, batch_size)\n",
    "    \n",
    "    for i in range(len(x)):\n",
    "        y_hat = net.forward(x[i])\n",
    "        buffer += loss.forward(y[i], y_hat)\n",
    "        dz = loss.backward(1)\n",
    "        dz = net.backward(dz, learn_rate, reg_rate)\n",
    "     \n",
    "    loss_list.append(buffer)\n",
    "    \n",
    "    print(epoch, end=\" \")\n",
    "    #if (epoch == 4):\n",
    "     #   learn_rate /= 1+epoch*decay\n",
    "    \n",
    "    if(epoch%3 == 0):\n",
    "        str = '\\n{}: acc_check = {}'.format(epoch, acc_check(net, X_val, Y_val))\n",
    "        print(str)\n",
    "        bot.sendMessage(393484655, str)\n",
    "\n",
    "plt.plot(loss_list)\n",
    "plt.show()"
   ]
  },
  {
   "cell_type": "code",
   "execution_count": 42,
   "metadata": {},
   "outputs": [
    {
     "name": "stdout",
     "output_type": "stream",
     "text": [
      "2.1815008726003495e-05\n"
     ]
    }
   ],
   "source": [
    "#learn_rate = 1e-3\n",
    "print(learn_rate)\n"
   ]
  },
  {
   "cell_type": "code",
   "execution_count": 53,
   "metadata": {
    "collapsed": true
   },
   "outputs": [],
   "source": [
    "def make_solution(net, test_no_classes):\n",
    "    res = []\n",
    "    for data in test_no_classes:\n",
    "        predict = np.argmax(net.forward(data))\n",
    "        res.append(predict)\n",
    "    return res"
   ]
  },
  {
   "cell_type": "code",
   "execution_count": 54,
   "metadata": {
    "collapsed": true
   },
   "outputs": [],
   "source": [
    "solution = make_solution(net, test_no_classes)\n",
    "with open('my_solution.csv', 'w') as fout:\n",
    "    print('Id', 'Prediction', sep=',', file=fout)\n",
    "    for i, prediction in enumerate(solution):\n",
    "        print(i, prediction, sep=',', file=fout)"
   ]
  },
  {
   "cell_type": "code",
   "execution_count": null,
   "metadata": {
    "collapsed": true
   },
   "outputs": [],
   "source": []
  }
 ],
 "metadata": {
  "kernelspec": {
   "display_name": "Python 3",
   "language": "python",
   "name": "python3"
  },
  "language_info": {
   "codemirror_mode": {
    "name": "ipython",
    "version": 3
   },
   "file_extension": ".py",
   "mimetype": "text/x-python",
   "name": "python",
   "nbconvert_exporter": "python",
   "pygments_lexer": "ipython3",
   "version": "3.6.3"
  }
 },
 "nbformat": 4,
 "nbformat_minor": 2
}
