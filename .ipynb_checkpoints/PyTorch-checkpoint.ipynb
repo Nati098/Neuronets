{
 "cells": [
  {
   "cell_type": "code",
   "execution_count": 1,
   "metadata": {
    "collapsed": true
   },
   "outputs": [],
   "source": [
    "%matplotlib inline\n",
    "\n",
    "import torch\n",
    "import torch.nn as nn\n",
    "from torch.utils.data import DataLoader\n",
    "from torch.autograd import Variable\n",
    "\n",
    "import torchvision\n",
    "import torchvision.datasets as datasets\n",
    "import torchvision.models as models\n",
    "import torchvision.transforms as transforms\n",
    "\n",
    "import random\n",
    "import os\n",
    "import time\n",
    "\n",
    "#import telepot\n",
    "\n",
    "import numpy as np\n",
    "import pandas as pd\n",
    "import matplotlib.pyplot as plt\n",
    "\n",
    "import torch.optim as optim\n",
    "from torch.optim import lr_scheduler\n",
    "from sklearn.model_selection import train_test_split\n",
    "\n",
    "import copy\n",
    "import json\n",
    "\n",
    "HOME_DIR = './'\n",
    "file_path = HOME_DIR+'JSON_files/'\n",
    "CUDA_DEVICE = 1\n",
    "data_batch_size = 32\n",
    "use_gpu = True"
   ]
  },
  {
   "cell_type": "markdown",
   "metadata": {},
   "source": [
    "# *ДАТАСЕТЫ*\n",
    "---------"
   ]
  },
  {
   "cell_type": "code",
   "execution_count": 2,
   "metadata": {
    "collapsed": true
   },
   "outputs": [],
   "source": [
    "# визуализация изображений\n",
    "def imshow (inp, title=None):\n",
    "    inp = inp.numpy().transpose((1, 2, 0))\n",
    "    mean = np.array([0.485, 0.456, 0.406])\n",
    "    std = np.array([0.229, 0.224, 0.225])\n",
    "    inp = std * inp + mean\n",
    "    print(inp.shape)\n",
    "    inp = np.clip(inp, 0, 1)\n",
    "    plt.imshow(inp)\n",
    "    \n",
    "    if title is not None:\n",
    "        plt.title(title)\n",
    "    plt.pause(0.01)\n",
    "\n",
    "\n",
    "# визуализация работы модели\n",
    "def visual_model(model, dataloaders, num_images=6):\n",
    "    \n",
    "    count = 0\n",
    "    fig = plt.figure()\n",
    "    \n",
    "    for i, data in enumerate(dataloaders):\n",
    "        inputs, labels = data  #список: элементы - (матрицы картинок, вектор классов (0..9) размер = размеру батча)\n",
    "        inputs, labels = Variable(inputs), Variable(labels)\n",
    "\n",
    "    outputs = model(inputs)\n",
    "    _, preds = torch.max(outputs.data, 1)\n",
    "    preds = preds.cpu().numpy()\n",
    "    print(preds)\n",
    "    labels = labels.data.cpu().numpy()\n",
    "    print(labels)\n",
    "    \n",
    "    for j in range(inputs.size()[0]):  #inputs.size()[0] - размер батча\n",
    "        count += 1\n",
    "        ax = plt.subplot(num_images//2, 2, count)\n",
    "        ax.axis('off')\n",
    "        ax.set_title('Предсказано: {}\\nМетка: {}'.format(preds[j], labels[j]))\n",
    "        imshow(inputs.cpu().data[j])\n",
    "        \n",
    "        if (count == num_images):\n",
    "            return"
   ]
  },
  {
   "cell_type": "markdown",
   "metadata": {},
   "source": [
    "--------------\n",
    "Данные для обучения и валидации"
   ]
  },
  {
   "cell_type": "code",
   "execution_count": 3,
   "metadata": {
    "collapsed": true
   },
   "outputs": [],
   "source": [
    "data_train = []"
   ]
  },
  {
   "cell_type": "code",
   "execution_count": null,
   "metadata": {},
   "outputs": [],
   "source": [
    "# hymenoptera\n",
    "hym_transforms = {\n",
    "    'train': transforms.Compose([\n",
    "        transforms.RandomResizedCrop(224),\n",
    "        transforms.RandomHorizontalFlip(),\n",
    "        transforms.ToTensor(),\n",
    "        transforms.Normalize([0.485, 0.456, 0.406], [0.229, 0.224, 0.225])\n",
    "    ]),\n",
    "    'val': transforms.Compose([\n",
    "        transforms.Resize(256),\n",
    "        transforms.CenterCrop(224),\n",
    "        transforms.ToTensor(),\n",
    "        transforms.Normalize([0.485, 0.456, 0.406], [0.229, 0.224, 0.225])\n",
    "    ]),\n",
    "}\n",
    "\n",
    "hymenoptera = []\n",
    "hymenoptera.append(HOME_DIR+'hymenoptera/hymenoptera_data')\n",
    "hymenoptera.append({x: datasets.ImageFolder(os.path.join(hymenoptera[0], x), hym_transforms[x]) for x in ['train', 'val']})\n",
    "hymenoptera.append({x: torch.utils.data.DataLoader(hymenoptera[1][x], batch_size=data_batch_size, shuffle=True, num_workers=4)\n",
    "               for x in ['train', 'val']})\n",
    "hym_data_sizes = {x: len(hymenoptera[1][x]) for x in ['train', 'val']}\n",
    "hymenoptera.appen(len(hymenoptera[1]['train'].classes))\n",
    "\n",
    "print(hymenoptera)"
   ]
  },
  {
   "cell_type": "code",
   "execution_count": null,
   "metadata": {
    "collapsed": true
   },
   "outputs": [],
   "source": [
    "data_train.append(hymenoptera)"
   ]
  },
  {
   "cell_type": "code",
   "execution_count": 4,
   "metadata": {},
   "outputs": [],
   "source": [
    "# MNIST\n",
    "mnist_transforms = transforms.Compose([\n",
    "    transforms.Resize(224),\n",
    "    transforms.RandomHorizontalFlip(),\n",
    "    transforms.Grayscale(3),\n",
    "    transforms.ToTensor(),\n",
    "    transforms.Normalize(mean = [0.485, 0.456, 0.406], std = [0.229, 0.224, 0.225])\n",
    "    ])\n",
    "mnist = []\n",
    "# mnist_dir - 0\n",
    "mnist.append(HOME_DIR+'mnist/')\n",
    "# mnist_dataset -1\n",
    "mnist.append(datasets.MNIST(mnist[0], train=True, transform = mnist_transforms))\n",
    "# mnist_loader - 2\n",
    "mnist.append(torch.utils.data.DataLoader(mnist[1], batch_size = data_batch_size, shuffle = True, num_workers = 4))\n",
    "mnist.append(10)\n",
    "\n",
    "#print(mnist)"
   ]
  },
  {
   "cell_type": "code",
   "execution_count": 5,
   "metadata": {
    "collapsed": true
   },
   "outputs": [],
   "source": [
    "data_train.append(mnist)"
   ]
  },
  {
   "cell_type": "code",
   "execution_count": 4,
   "metadata": {},
   "outputs": [
    {
     "name": "stdout",
     "output_type": "stream",
     "text": [
      "Files already downloaded and verified\n"
     ]
    }
   ],
   "source": [
    "cifar10_transforms = transforms.Compose([\n",
    "    transforms.RandomHorizontalFlip(),\n",
    "    transforms.Resize(224),\n",
    "    transforms.ToTensor(),\n",
    "    transforms.Normalize(mean = [0.4914, 0.4822, 0.4465], std = [0.2023, 0.1994, 0.2010])\n",
    "    ])\n",
    "\n",
    "cif10 = []\n",
    "\n",
    "cif10.append(HOME_DIR+'cifar10/')\n",
    "cif10.append(datasets.CIFAR10(cif10[0], train=True,\n",
    "                                download = True, transform = cifar10_transforms))\n",
    "cif10.append(torch.utils.data.DataLoader(cif10[1],\n",
    "                                          batch_size = data_batch_size, shuffle = True, num_workers = 4))\n",
    "cif10.append(10)"
   ]
  },
  {
   "cell_type": "code",
   "execution_count": 5,
   "metadata": {
    "collapsed": true
   },
   "outputs": [],
   "source": [
    "data_train.append(cif10)"
   ]
  },
  {
   "cell_type": "code",
   "execution_count": 4,
   "metadata": {},
   "outputs": [
    {
     "name": "stdout",
     "output_type": "stream",
     "text": [
      "Files already downloaded and verified\n"
     ]
    }
   ],
   "source": [
    "cifar100_transforms = transforms.Compose([\n",
    "    transforms.RandomHorizontalFlip(),\n",
    "    transforms.Resize(224),\n",
    "    transforms.ToTensor(),\n",
    "    transforms.Normalize(mean = [0.4914, 0.4822, 0.4465], std = [0.2023, 0.1994, 0.2010])\n",
    "    ])\n",
    "\n",
    "cif100 = []\n",
    "\n",
    "cif100.append(HOME_DIR+'cifar100/')\n",
    "cif100.append(datasets.CIFAR100(cif100[0], train=True,\n",
    "                                download = True, transform = cifar100_transforms))\n",
    "cif100.append(torch.utils.data.DataLoader(cif100[1],\n",
    "                                          batch_size = data_batch_size, shuffle = True, num_workers = 4))\n",
    "cif100.append(100)"
   ]
  },
  {
   "cell_type": "code",
   "execution_count": 5,
   "metadata": {
    "collapsed": true
   },
   "outputs": [],
   "source": [
    "data_train.append(cif100)"
   ]
  },
  {
   "cell_type": "code",
   "execution_count": null,
   "metadata": {
    "collapsed": true
   },
   "outputs": [],
   "source": [
    "print(hym_data_sizes)\n",
    "\n",
    "for phase in ['train', 'val']:\n",
    "    inputs, classes = next(iter(hym_load[phase]))\n",
    "    out = torchvision.utils.make_grid(inputs)\n",
    "    print(inputs.size(), out.size())\n",
    "    imshow(out, title=[x for x in classes])"
   ]
  },
  {
   "cell_type": "code",
   "execution_count": 6,
   "metadata": {},
   "outputs": [
    {
     "name": "stdout",
     "output_type": "stream",
     "text": [
      "60000\n",
      "torch.Size([32, 3, 224, 224]) torch.Size([3, 906, 1810])\n",
      "(906, 1810, 3)\n"
     ]
    },
    {
     "data": {
      "image/png": "[encoded data removed]",
      "text/plain": [
       "<matplotlib.figure.Figure at 0x7f0c485f1e80>"
      ]
     },
     "metadata": {},
     "output_type": "display_data"
    }
   ],
   "source": [
    "# визуализация - сетка из изображений\n",
    "for i in range(len(data_train)):\n",
    "    print(len(data_train[i][1]))\n",
    "    inputs, classes = next(iter(data_train[i][2]))\n",
    "    out = torchvision.utils.make_grid(inputs)\n",
    "    print(inputs.size(), out.size())\n",
    "    imshow(out, title=[x for x in classes])"
   ]
  },
  {
   "cell_type": "markdown",
   "metadata": {},
   "source": [
    "----------------\n",
    "Тестовые данные"
   ]
  },
  {
   "cell_type": "code",
   "execution_count": 7,
   "metadata": {
    "collapsed": true
   },
   "outputs": [],
   "source": [
    "data_test = []"
   ]
  },
  {
   "cell_type": "code",
   "execution_count": 4,
   "metadata": {
    "collapsed": true
   },
   "outputs": [],
   "source": [
    "# hymenoptera\n",
    "hymenoptera_transforms = transforms.Compose([\n",
    "    transforms.Resize(256),\n",
    "    transforms.CenterCrop(224),\n",
    "    transforms.ToTensor(),\n",
    "    transforms.Normalize(mean = [0.485, 0.456, 0.406], std = [0.229, 0.224, 0.225])\n",
    "    ])\n",
    "\n",
    "hymenoptera = []\n",
    "\n",
    "hymenoptera.append(HOME_DIR+'hymenoptera/hymenoptera_data/val')\n",
    "hymenoptera.append(datasets.ImageFolder(root = hymenoptera[0], transform = hymenoptera_transforms))\n",
    "hymenoptera.append(torch.utils.data.DataLoader(hymenoptera[1], batch_size=data_batch_size, shuffle=True, num_workers=4))\n",
    "hymenoptera.append(2)"
   ]
  },
  {
   "cell_type": "code",
   "execution_count": 5,
   "metadata": {
    "collapsed": true
   },
   "outputs": [],
   "source": [
    "data_test.append(hymenoptera)"
   ]
  },
  {
   "cell_type": "code",
   "execution_count": 8,
   "metadata": {},
   "outputs": [],
   "source": [
    "# MNIST\n",
    "mnist_transforms = transforms.Compose([\n",
    "    transforms.Resize(224),\n",
    "    transforms.Grayscale(3),\n",
    "    transforms.ToTensor(),\n",
    "    transforms.Normalize(mean = [0.485, 0.456, 0.406], std = [0.229, 0.224, 0.225])\n",
    "    ])\n",
    "\n",
    "mnist = []\n",
    "\n",
    "# mnist_dir - 0\n",
    "mnist.append(HOME_DIR+'mnist/')\n",
    "# mnist_dataset -1\n",
    "mnist.append(datasets.MNIST(mnist[0], train=False, transform = mnist_transforms))\n",
    "# mnist_loader - 2\n",
    "mnist.append(torch.utils.data.DataLoader(mnist[1], batch_size = data_batch_size, shuffle = True, num_workers = 4))\n",
    "# num_classes\n",
    "mnist.append(10)\n",
    "\n",
    "#print(mnist)"
   ]
  },
  {
   "cell_type": "code",
   "execution_count": 9,
   "metadata": {
    "collapsed": true
   },
   "outputs": [],
   "source": [
    "data_test.append(mnist)"
   ]
  },
  {
   "cell_type": "code",
   "execution_count": 8,
   "metadata": {},
   "outputs": [
    {
     "name": "stdout",
     "output_type": "stream",
     "text": [
      "Files already downloaded and verified\n"
     ]
    }
   ],
   "source": [
    "# CIFAR10\n",
    "# http://www.cs.toronto.edu/~kriz/cifar.html\n",
    "# 32x32 colour images in 10 classes\n",
    "\n",
    "\n",
    "cifar10_transforms = transforms.Compose([\n",
    "    transforms.Resize(224),\n",
    "    transforms.ToTensor(),\n",
    "    transforms.Normalize(mean = [0.485, 0.456, 0.406], std = [0.229, 0.224, 0.225])\n",
    "    ])\n",
    "\n",
    "cif10 = []\n",
    "\n",
    "cif10.append(HOME_DIR+'cifar10/')\n",
    "cif10.append(datasets.CIFAR10(cif10[0], train=False,\n",
    "                                download = True, transform = cifar10_transforms))\n",
    "cif10.append(torch.utils.data.DataLoader(cif10[1],\n",
    "                                          batch_size = data_batch_size, shuffle = True, num_workers = 4))\n",
    "cif10.append(10)"
   ]
  },
  {
   "cell_type": "code",
   "execution_count": 9,
   "metadata": {
    "collapsed": true
   },
   "outputs": [],
   "source": [
    "data_test.append(cif10)"
   ]
  },
  {
   "cell_type": "code",
   "execution_count": 8,
   "metadata": {},
   "outputs": [
    {
     "name": "stdout",
     "output_type": "stream",
     "text": [
      "Files already downloaded and verified\n"
     ]
    }
   ],
   "source": [
    "# CIFAR100\n",
    "# http://www.cs.toronto.edu/~kriz/cifar.html\n",
    "\n",
    "cifar100_transforms = transforms.Compose([\n",
    "    transforms.Resize(224),\n",
    "    transforms.ToTensor(),\n",
    "    transforms.Normalize(mean = [0.485, 0.456, 0.406], std = [0.229, 0.224, 0.225])\n",
    "    ])\n",
    "\n",
    "cif100 = []\n",
    "\n",
    "cif100.append(HOME_DIR+'cifar100/')\n",
    "cif100.append(datasets.CIFAR100(cif100[0], train=False,\n",
    "                                download = True, transform = cifar100_transforms))\n",
    "cif100.append(torch.utils.data.DataLoader(cif100[1],\n",
    "                                          batch_size = data_batch_size, shuffle = True, num_workers = 4))\n",
    "cif100.append(100)"
   ]
  },
  {
   "cell_type": "code",
   "execution_count": 9,
   "metadata": {
    "collapsed": true
   },
   "outputs": [],
   "source": [
    "data_test.append(cif100)"
   ]
  },
  {
   "cell_type": "code",
   "execution_count": 10,
   "metadata": {
    "scrolled": true
   },
   "outputs": [
    {
     "name": "stdout",
     "output_type": "stream",
     "text": [
      "10000\n",
      "torch.Size([32, 3, 224, 224]) torch.Size([3, 906, 1810])\n",
      "(906, 1810, 3)\n"
     ]
    },
    {
     "data": {
      "image/png": "[encoded data removed]",
      "text/plain": [
       "<matplotlib.figure.Figure at 0x7f0be93bf390>"
      ]
     },
     "metadata": {},
     "output_type": "display_data"
    }
   ],
   "source": [
    "# визуализация - сетка из изображений\n",
    "\n",
    "for i in range(len(data_test)):\n",
    "    print(len(data_test[i][1]))\n",
    "    inputs, classes = next(iter(data_test[i][2]))\n",
    "    out = torchvision.utils.make_grid(inputs)\n",
    "    print(inputs.size(), out.size())\n",
    "    imshow(out, title=[x for x in classes])"
   ]
  },
  {
   "cell_type": "markdown",
   "metadata": {},
   "source": [
    "# *ПРОГОН КЛАСИФИКАТОРОВ И ИХ ОБУЧЕНИЕ*\n",
    "---------"
   ]
  },
  {
   "cell_type": "markdown",
   "metadata": {},
   "source": [
    "ConvNet as fixed feature extractor. \n",
    "Here, we need to freeze all the network except the final layer. We need to set requires_grad == False to freeze the parameters so that the gradients are not computed in backward().\n",
    "\n",
    "Функции для обучения классификатора"
   ]
  },
  {
   "cell_type": "code",
   "execution_count": 11,
   "metadata": {
    "collapsed": true
   },
   "outputs": [],
   "source": [
    "# взято с http://pytorch.org/tutorials/beginner/transfer_learning_tutorial.html\n",
    "# обучение модели; dataloader разделен на обуч. и валид. выборки\n",
    "def train_model_div(model, dataloaders, criterion, optimizer, scheduler, num_epochs=25):\n",
    "    since = time.time()\n",
    "\n",
    "    best_model_wts = copy.deepcopy(model.state_dict())\n",
    "    best_acc = 0.0\n",
    "    best_loss = 0.0\n",
    "    losses, accs = [], []\n",
    "\n",
    "    for epoch in range(num_epochs):\n",
    "        print('Epoch {}/{}'.format(epoch, num_epochs - 1))\n",
    "        print('-' * 10)          \n",
    "        \n",
    "        # Each epoch has a training and validation phase\n",
    "        for phase in ['train', 'val']:\n",
    "            if phase == 'train':\n",
    "                scheduler.step()\n",
    "                model.train(True)  # Set model to training mode\n",
    "            else:\n",
    "                model.train(False)  # Set model to evaluate mode\n",
    "\n",
    "            running_loss = 0.0\n",
    "            running_corrects = 0\n",
    "                \n",
    "            \n",
    "            # Iterate over data.\n",
    "            for data in dataloaders[phase]:\n",
    "                # get the inputs\n",
    "                inputs, labels = data\n",
    "\n",
    "                # wrap them in Variable\n",
    "                if use_gpu:\n",
    "                    inputs = Variable(inputs.cuda(CUDA_DEVICE))\n",
    "                    labels = Variable(labels.cuda(CUDA_DEVICE))\n",
    "                else:\n",
    "                    inputs, labels = Variable(inputs), Variable(labels)\n",
    "\n",
    "                # zero the parameter gradients\n",
    "                optimizer.zero_grad()\n",
    "\n",
    "                # forward\n",
    "                outputs = model(inputs)\n",
    "                _, preds = torch.max(outputs.data, 1)\n",
    "                loss = criterion(outputs, labels)\n",
    "\n",
    "                # backward + optimize only if in training phase\n",
    "                if phase == 'train':\n",
    "                    loss.backward()\n",
    "                    optimizer.step()\n",
    "\n",
    "                # statistics\n",
    "                running_loss += loss.data[0] * inputs.size(0)\n",
    "                running_corrects += torch.sum(preds == labels.data)\n",
    "\n",
    "            epoch_loss = running_loss / dataset_sizes[phase]\n",
    "            epoch_acc = running_corrects / dataset_sizes[phase]\n",
    "            losses.append(epoch_loss)\n",
    "            accs.append(epoch_acc)\n",
    "\n",
    "            print('{} Loss: {:.4f} Acc: {:.4f}'.format(\n",
    "                phase, epoch_loss, epoch_acc))\n",
    "\n",
    "            # deep copy the model\n",
    "            if phase == 'val' and epoch_acc > best_acc:\n",
    "                best_acc = epoch_acc\n",
    "                best_loss = epoch_loss\n",
    "                best_model_wts = copy.deepcopy(model.state_dict())\n",
    "                torch.save(best_model_wts, file_path+filename)\n",
    "\n",
    "        print()\n",
    "\n",
    "    time_elapsed = time.time() - since\n",
    "    df = pd.DataFrame({'losses': losses, 'accs': accs})\n",
    "    print('Training complete in {:.0f}m {:.0f}s'.format(time_elapsed // 60, time_elapsed % 60))\n",
    "    print('Best val Acc: {:4f}'.format(best_acc))\n",
    "\n",
    "    # load best model weights\n",
    "    model.load_state_dict(best_model_wts)\n",
    "    return model, best_loss, best_acc, df"
   ]
  },
  {
   "cell_type": "code",
   "execution_count": 12,
   "metadata": {
    "collapsed": true
   },
   "outputs": [],
   "source": [
    "# обучение модели; dataloader один            \n",
    "def train_model_not_div(model, dataloaders, criterion, optimizer, scheduler, num_epochs=25):\n",
    "    since = time.time()\n",
    "\n",
    "    best_model_wts = copy.deepcopy(model.state_dict())\n",
    "    best_acc = 0.0\n",
    "    best_loss = 0.0\n",
    "    losses, accs = [], []\n",
    "\n",
    "    for epoch in range(num_epochs):\n",
    "        print('Epoch {}/{}'.format(epoch, num_epochs - 1))\n",
    "        print('-' * 10)          \n",
    "        \n",
    "        # Each epoch has a training and validation phase\n",
    "        for phase in ['train', 'val']:\n",
    "            if phase == 'train':\n",
    "                scheduler.step()\n",
    "                model.train(True)  # Set model to training mode\n",
    "            else:\n",
    "                model.train(False)  # Set model to evaluate mode\n",
    "\n",
    "            running_loss = 0.0\n",
    "            running_corrects = 0\n",
    "            dataset_sizes = 0\n",
    "            count = 0\n",
    "            \n",
    "            # Iterate over data.\n",
    "            for data in dataloaders:\n",
    "                # get the inputs\n",
    "                inputs, labels = None, None\n",
    "                if (phase == 'train'):\n",
    "                    if (count > 1e4):\n",
    "                        inputs, labels = data\n",
    "                    count += data[0].shape[0]\n",
    "                if (phase == 'val'):\n",
    "                    if (count <= 1e4):\n",
    "                        inputs, labels = data\n",
    "                    count += data[0].shape[0]\n",
    "\n",
    "                if inputs is None:\n",
    "                    continue\n",
    "                    \n",
    "                # wrap them in Variable\n",
    "                if use_gpu:\n",
    "                    inputs = Variable(inputs.cuda(CUDA_DEVICE))\n",
    "                    labels = Variable(labels.cuda(CUDA_DEVICE))\n",
    "                else:\n",
    "                    inputs, labels = Variable(inputs), Variable(labels)\n",
    "\n",
    "                # zero the parameter gradients\n",
    "                optimizer.zero_grad()\n",
    "\n",
    "                # forward\n",
    "                outputs = model(inputs)\n",
    "                _, preds = torch.max(outputs.data, 1)\n",
    "                loss = criterion(outputs, labels)\n",
    "\n",
    "                # backward + optimize only if in training phase\n",
    "                if phase == 'train':\n",
    "                    loss.backward()\n",
    "                    optimizer.step()\n",
    "\n",
    "                # statistics\n",
    "                dataset_sizes += data_batch_size\n",
    "                running_loss += loss.data[0] * inputs.size(0)\n",
    "                running_corrects += torch.sum(preds == labels.data)\n",
    "\n",
    "            epoch_loss = running_loss / dataset_sizes\n",
    "            epoch_acc = running_corrects / dataset_sizes\n",
    "            losses.append(epoch_loss)\n",
    "            accs.append(epoch_acc)\n",
    "\n",
    "            print('{} Loss: {:.4f} Acc: {:.4f}'.format(\n",
    "                phase, epoch_loss, epoch_acc))\n",
    "\n",
    "            # deep copy the model\n",
    "            if phase == 'val' and epoch_acc > best_acc:\n",
    "                best_acc = epoch_acc\n",
    "                best_loss = epoch_loss\n",
    "                best_model_wts = copy.deepcopy(model.state_dict())\n",
    "                torch.save(best_model_wts, file_path+filename)\n",
    "\n",
    "        print()\n",
    "\n",
    "    time_elapsed = time.time() - since\n",
    "    df = pd.DataFrame({'losses': losses, 'accs': accs})\n",
    "    print('Training complete in {:.0f}m {:.0f}s'.format(time_elapsed // 60, time_elapsed % 60))\n",
    "    print('Best val Acc: {:4f}'.format(best_acc))\n",
    "\n",
    "    # load best model weights\n",
    "    model.load_state_dict(best_model_wts)\n",
    "    return model, best_loss, best_acc, df"
   ]
  },
  {
   "cell_type": "markdown",
   "metadata": {},
   "source": [
    "Функции для теста классифиатора"
   ]
  },
  {
   "cell_type": "code",
   "execution_count": 13,
   "metadata": {
    "collapsed": true
   },
   "outputs": [],
   "source": [
    "def get_prediction(outputs):\n",
    "    val, idx = torch.max(outputs, dim=1)\n",
    "    return idx.data.cpu().view(-1)\n",
    "\n",
    "def get_acc(preds, targets):\n",
    "    return np.sum(preds==targets)/len(targets)\n",
    "\n",
    "# выход: лосс, точность, список предсказанных моделью значений\n",
    "def test_model(net, loader, criterion):\n",
    "    net.eval()\n",
    "    \n",
    "    test_loss, test_acc = 0, 0\n",
    "    print(test_loss, test_acc)\n",
    "    count = 0\n",
    "    # y_hat - список для результатов классификации\n",
    "    y_hat = []\n",
    "    \n",
    "    for data, target in loader:\n",
    "        count += 1\n",
    "        \n",
    "        if use_gpu:\n",
    "            data = Variable(data.cuda(CUDA_DEVICE), volatile=True)\n",
    "            target = Variable(target.cuda(CUDA_DEVICE))\n",
    "        else:       \n",
    "            data = Variable(data, volatile=True)\n",
    "            target = Variable(target)\n",
    "        \n",
    "        output = net(data)\n",
    "        test_loss += criterion(output, target).data[0]\n",
    "        pred = (get_prediction(output)).numpy()\n",
    "        y_hat.extend(pred)\n",
    "        test_acc += get_acc(pred, target.data.cpu().numpy())\n",
    "        if (count%10 == 0):\n",
    "            print(count*len(data), end=\" \")\n",
    "            print(test_loss/(count*len(data)), test_acc/(count*len(data)))\n",
    "        \n",
    "    test_loss /= len(loader)\n",
    "    test_acc /= len(loader)\n",
    "    return test_loss, test_acc, y_hat"
   ]
  },
  {
   "cell_type": "markdown",
   "metadata": {},
   "source": [
    "ТАБЛИЦЫ РЕЗУЛЬТАТОВ LOSS'А и ACCURACY"
   ]
  },
  {
   "cell_type": "code",
   "execution_count": 14,
   "metadata": {
    "collapsed": true
   },
   "outputs": [],
   "source": [
    "# таблица результатов без обучения\n",
    "res_losses_before = np.zeros((4, 11))\n",
    "res_losses_after = np.zeros((4, 11))\n",
    "\n",
    "# accuracy\n",
    "res_acc_before = np.zeros((4, 11))\n",
    "res_acc_after = np.zeros((4, 11))"
   ]
  },
  {
   "cell_type": "markdown",
   "metadata": {},
   "source": [
    "### ALEXNET"
   ]
  },
  {
   "cell_type": "code",
   "execution_count": 22,
   "metadata": {
    "collapsed": true,
    "scrolled": true
   },
   "outputs": [],
   "source": [
    "# ALEXNET\n",
    "# need_train - нужно ли дообучать сеть; num_datasets - число наборов\n",
    "# возвращает сеть net - обученную или нет\n",
    "def alexnet_run(num_datasets, need_train = False, net = None, num_epochs=25):\n",
    "    l = [x for x in range(num_datasets)]\n",
    "    df = None\n",
    "    # range(res_losses_before.shape[0])\n",
    "    for i in l:\n",
    "        start = time.time()\n",
    "        \n",
    "        if (net is None):\n",
    "            # загрузка сети\n",
    "            net = models.alexnet(pretrained=True)\n",
    "            for param in net.parameters():\n",
    "                param.requires_grad = False  \n",
    "\n",
    "            # добавление посленего слоя\n",
    "            n = len(net.classifier) - 1   # номер последнего слоя \n",
    "            last_layer_ftrs = net.classifier[(n)].out_features\n",
    "            num_of_layer = '{}'.format(n+1)\n",
    "            net.classifier.add_module(num_of_layer, nn.Linear(last_layer_ftrs, data_test[i][3]))   #добавление нового слоя\n",
    "            print(data_train[i][0], \"\\n\", net.classifier[(7)])\n",
    "\n",
    "        if use_gpu:\n",
    "            net = net.cuda(CUDA_DEVICE)    \n",
    "        \n",
    "        crit = nn.CrossEntropyLoss()\n",
    "        if use_gpu:\n",
    "            crit = crit.cuda(CUDA_DEVICE)\n",
    "\n",
    "        loss, acc = 0.0, 0.0\n",
    "        \n",
    "        if need_train:\n",
    "            # Observe that only parameters of final layer are being optimized as opoosed to before.\n",
    "            optimizer_conv = optim.SGD(net.classifier[(7)].parameters(), lr=0.001, momentum=0.9)\n",
    "            # Decay LR by a factor of 0.1 every 7 epochs\n",
    "            exp_lr_scheduler = lr_scheduler.StepLR(optimizer_conv, step_size=7, gamma=0.1)\n",
    "            \n",
    "            if (type(data_train[i][2]) is dict):\n",
    "                net, loss, acc, df = train_model_div(net, data_train[i][2], crit,\n",
    "                                                 optimizer_conv, exp_lr_scheduler, num_epochs=num_epochs)\n",
    "            else:\n",
    "                net, loss, acc, df = train_model_not_div(net, data_train[i][2], crit,\n",
    "                                                     optimizer_conv, exp_lr_scheduler, num_epochs=num_epochs)\n",
    "            print(\"TRAIN:\\nBEST LOSS: {}  BEST ACC: {}\\n\".format(loss, acc))\n",
    "            \n",
    "            loss, acc, y_hat = test_model(net, data_test[i][2], crit)\n",
    "            print(\"TEST:\\nBEST LOSS: {}  BEST ACC: {}\\n\".format(loss, acc))\n",
    "            res_losses_after[i][0] = loss\n",
    "            res_acc_after[i][0] = acc\n",
    "        else:\n",
    "            loss, acc, y_hat = test_model(net, data_test[i][2], crit)\n",
    "            # data_test[i].append(y_hat)\n",
    "            \n",
    "            timer = time.time()-start\n",
    "            print(\"JUST TEST:\\nBEST LOSS: {}  BEST ACC: {}\\nTIME: {}\".format(loss, acc, timer))\n",
    "            res_losses_before[i][0] = loss\n",
    "            res_acc_before[i][0] = acc         \n",
    "            \n",
    "        \n",
    "\n",
    "        #bot = telepot.Bot('567990957:AAE40n4HsPyvvWGKtsUAZ6AFqyWL8ksKMyQ')\n",
    "        #bot.sendMessage(393484655, '{}\\n Finish!\\nLoss: {:.5}; acc: {:.5}\\nTime: {:.3} min'.format(data_test[i][0], loss, acc, timer/60))\n",
    "        \n",
    "    return net, df"
   ]
  },
  {
   "cell_type": "code",
   "execution_count": 28,
   "metadata": {
    "scrolled": true
   },
   "outputs": [
    {
     "name": "stdout",
     "output_type": "stream",
     "text": [
      "./cifar100/ \n",
      " Linear (1000 -> 100)\n",
      "0 0\n",
      "320 1.9509361237287521\n",
      "640 3.8188529014587402\n",
      "960 5.657040968537331\n",
      "1280 7.564027950167656\n",
      "1600 9.508126750588417\n",
      "1920 11.396469995379448\n",
      "2240 13.278230801224709\n",
      "2560 15.16876396536827\n",
      "2880 17.094670310616493\n",
      "3200 18.956783443689346\n",
      "3520 20.881584778428078\n",
      "3840 22.76667046546936\n",
      "4160 24.633608534932137\n",
      "4480 26.51103326678276\n",
      "4800 28.412568137049675\n",
      "5120 30.308674231171608\n",
      "5440 32.27092996239662\n",
      "5760 34.15733860433102\n",
      "6080 36.031116023659706\n",
      "6400 37.919954508543015\n",
      "6720 39.79826554656029\n",
      "7040 41.713158026337624\n",
      "7360 43.611180767416954\n",
      "7680 45.56368859112263\n",
      "8000 47.45954416692257\n",
      "8320 49.323457941412926\n",
      "8640 51.22047805786133\n",
      "8960 53.15680384635925\n",
      "9280 55.03777298331261\n",
      "9600 56.91900438070297\n",
      "9920 58.83280272781849\n",
      "JUST TEST:\n",
      "BEST LOSS: 6.073407586009358  BEST ACC: 0.008686102236421725\n",
      "TIME: 12.53103756904602\n"
     ]
    }
   ],
   "source": [
    "not_train_net, _ = alexnet_run(num_datasets=1)\n",
    "\n",
    "if use_gpu:\n",
    "    not_train_net = not_train_net.cpu()"
   ]
  },
  {
   "cell_type": "code",
   "execution_count": 34,
   "metadata": {},
   "outputs": [
    {
     "name": "stdout",
     "output_type": "stream",
     "text": [
      "./cifar100/ \n",
      " Linear (1000 -> 100)\n",
      "Epoch 0/24\n",
      "----------\n",
      "train Loss: 2.6567 Acc: 0.3515\n",
      "val Loss: 1.8831 Acc: 0.4900\n",
      "\n",
      "Epoch 1/24\n",
      "----------\n",
      "train Loss: 2.2514 Acc: 0.4304\n",
      "val Loss: 1.9287 Acc: 0.4881\n",
      "\n",
      "Epoch 2/24\n",
      "----------\n",
      "train Loss: 2.1746 Acc: 0.4514\n",
      "val Loss: 1.8222 Acc: 0.5165\n",
      "\n",
      "Epoch 3/24\n",
      "----------\n",
      "train Loss: 2.0792 Acc: 0.4706\n",
      "val Loss: 1.7609 Acc: 0.5279\n",
      "\n",
      "Epoch 4/24\n",
      "----------\n",
      "train Loss: 2.0602 Acc: 0.4730\n",
      "val Loss: 1.7495 Acc: 0.5310\n",
      "\n",
      "Epoch 5/24\n",
      "----------\n",
      "train Loss: 1.9914 Acc: 0.4889\n",
      "val Loss: 1.5866 Acc: 0.5561\n",
      "\n",
      "Epoch 6/24\n",
      "----------\n",
      "train Loss: 1.9770 Acc: 0.4929\n",
      "val Loss: 1.6784 Acc: 0.5543\n",
      "\n",
      "Epoch 7/24\n",
      "----------\n",
      "train Loss: 1.5553 Acc: 0.5656\n",
      "val Loss: 1.2565 Acc: 0.6339\n",
      "\n",
      "Epoch 8/24\n",
      "----------\n",
      "train Loss: 1.5066 Acc: 0.5777\n",
      "val Loss: 1.2415 Acc: 0.6424\n",
      "\n",
      "Epoch 9/24\n",
      "----------\n",
      "train Loss: 1.4916 Acc: 0.5788\n",
      "val Loss: 1.2284 Acc: 0.6441\n",
      "\n",
      "Epoch 10/24\n",
      "----------\n",
      "train Loss: 1.4829 Acc: 0.5786\n",
      "val Loss: 1.2435 Acc: 0.6454\n",
      "\n",
      "Epoch 11/24\n",
      "----------\n",
      "train Loss: 1.4849 Acc: 0.5823\n",
      "val Loss: 1.2197 Acc: 0.6431\n",
      "\n",
      "Epoch 12/24\n",
      "----------\n",
      "train Loss: 1.4730 Acc: 0.5826\n",
      "val Loss: 1.2295 Acc: 0.6485\n",
      "\n",
      "Epoch 13/24\n",
      "----------\n",
      "train Loss: 1.4668 Acc: 0.5834\n",
      "val Loss: 1.2112 Acc: 0.6504\n",
      "\n",
      "Epoch 14/24\n",
      "----------\n",
      "train Loss: 1.4419 Acc: 0.5905\n",
      "val Loss: 1.1867 Acc: 0.6602\n",
      "\n",
      "Epoch 15/24\n",
      "----------\n",
      "train Loss: 1.4284 Acc: 0.5945\n",
      "val Loss: 1.1969 Acc: 0.6563\n",
      "\n",
      "Epoch 16/24\n",
      "----------\n",
      "train Loss: 1.4334 Acc: 0.5934\n",
      "val Loss: 1.2157 Acc: 0.6557\n",
      "\n",
      "Epoch 17/24\n",
      "----------\n",
      "train Loss: 1.4390 Acc: 0.5917\n",
      "val Loss: 1.1992 Acc: 0.6532\n",
      "\n",
      "Epoch 18/24\n",
      "----------\n",
      "train Loss: 1.4310 Acc: 0.5927\n",
      "val Loss: 1.2100 Acc: 0.6565\n",
      "\n",
      "Epoch 19/24\n",
      "----------\n",
      "train Loss: 1.4307 Acc: 0.5955\n",
      "val Loss: 1.2000 Acc: 0.6578\n",
      "\n",
      "Epoch 20/24\n",
      "----------\n",
      "train Loss: 1.4301 Acc: 0.5953\n",
      "val Loss: 1.1810 Acc: 0.6652\n",
      "\n",
      "Epoch 21/24\n",
      "----------\n",
      "train Loss: 1.4324 Acc: 0.5909\n",
      "val Loss: 1.1879 Acc: 0.6601\n",
      "\n",
      "Epoch 22/24\n",
      "----------\n",
      "train Loss: 1.4343 Acc: 0.5920\n",
      "val Loss: 1.1676 Acc: 0.6645\n",
      "\n",
      "Epoch 23/24\n",
      "----------\n",
      "train Loss: 1.4251 Acc: 0.5973\n",
      "val Loss: 1.1731 Acc: 0.6591\n",
      "\n",
      "Epoch 24/24\n",
      "----------\n",
      "train Loss: 1.4166 Acc: 0.5984\n",
      "val Loss: 1.1893 Acc: 0.6591\n",
      "\n",
      "Training complete in 32m 41s\n",
      "Best val Acc: 0.665236\n",
      "TRAIN:\n",
      "BEST LOSS: 1.1809878512121998  BEST ACC: 0.6652356230031949\n",
      "\n",
      "0 0\n",
      "320 0.4386795461177826\n",
      "640 0.8665693961083889\n",
      "960 1.335155550390482\n",
      "1280 1.7529545612633228\n",
      "1600 2.1922206096351147\n",
      "1920 2.6490297242999077\n",
      "2240 3.100135587155819\n",
      "2560 3.556562937796116\n",
      "2880 4.005690790712833\n",
      "3200 4.428932938724756\n",
      "3520 4.900906316936016\n",
      "3840 5.303582951426506\n",
      "4160 5.72029310837388\n",
      "4480 6.178353702649474\n",
      "4800 6.632154932245612\n",
      "5120 7.090486915782094\n",
      "5440 7.549819441512227\n",
      "5760 7.9951563607901335\n",
      "6080 8.429764265194535\n",
      "6400 8.922843994572759\n",
      "6720 9.370666028931737\n",
      "7040 9.83261396549642\n",
      "7360 10.325654020532966\n",
      "7680 10.813373165205121\n",
      "8000 11.210611702874303\n",
      "8320 11.661248760297894\n",
      "8640 12.061626940965652\n",
      "8960 12.469278395175934\n",
      "9280 12.925454083830118\n",
      "9600 13.382008254528046\n",
      "9920 13.799640512093902\n",
      "TEST:\n",
      "BEST LOSS: 1.4230657867349374  BEST ACC: 0.5973442492012779\n",
      "\n"
     ]
    }
   ],
   "source": [
    "train_net, fraim = alexnet_run(num_datasets=1, need_train=True, num_epochs=25)\n",
    "\n",
    "if use_gpu:\n",
    "    train_net = train_net.cpu()"
   ]
  },
  {
   "cell_type": "code",
   "execution_count": 35,
   "metadata": {
    "collapsed": true
   },
   "outputs": [],
   "source": [
    "filename = 'alexnet_cifar100'\n",
    "torch.save(train_net.state_dict(), file_path+filename)\n",
    "fraim.to_csv(filename+'.csv', encoding='utf-8')"
   ]
  },
  {
   "cell_type": "code",
   "execution_count": null,
   "metadata": {},
   "outputs": [],
   "source": [
    "print(res_losses_before, \"\\n\")\n",
    "print(res_losses_after)"
   ]
  },
  {
   "cell_type": "markdown",
   "metadata": {},
   "source": [
    "### VGG"
   ]
  },
  {
   "cell_type": "code",
   "execution_count": 15,
   "metadata": {
    "collapsed": true
   },
   "outputs": [],
   "source": [
    "def vgg_run(num_datasets, need_train = False, net = None, num_epochs=25):\n",
    "    l = [x for x in range(num_datasets)]\n",
    "    df = None\n",
    "    # range(res_losses_before.shape[0])\n",
    "    for i in l:\n",
    "        start = time.time()\n",
    "        \n",
    "        if (net is None):\n",
    "            # загрузка сети\n",
    "            net = models.vgg19(pretrained=True)\n",
    "            for param in net.parameters():\n",
    "                param.requires_grad = False  \n",
    "\n",
    "            # добавление посленего слоя\n",
    "            n = len(net.classifier) - 1   # номер последнего слоя \n",
    "            last_layer_ftrs = net.classifier[(n)].out_features\n",
    "            num_of_layer = '{}'.format(n+1)\n",
    "            net.classifier.add_module(num_of_layer, nn.Linear(last_layer_ftrs, data_test[i][3]))   #добавление нового слоя\n",
    "            print(data_train[i][0], \"\\n\", net.classifier[(7)])\n",
    "\n",
    "        if use_gpu:\n",
    "            net = net.cuda(CUDA_DEVICE)    \n",
    "        \n",
    "        crit = nn.CrossEntropyLoss()\n",
    "        if use_gpu:\n",
    "            crit = crit.cuda(CUDA_DEVICE)\n",
    "\n",
    "        loss, acc = 0.0, 0.0\n",
    "        \n",
    "        if need_train:\n",
    "            # Observe that only parameters of final layer are being optimized as opoosed to before.\n",
    "            optimizer_conv = optim.SGD(net.classifier[(7)].parameters(), lr=0.001, momentum=0.9)\n",
    "            # Decay LR by a factor of 0.1 every 7 epochs\n",
    "            exp_lr_scheduler = lr_scheduler.StepLR(optimizer_conv, step_size=7, gamma=0.1)\n",
    "            \n",
    "            if (type(data_train[i][2]) is dict):\n",
    "                net, loss, acc, df = train_model_div(net, data_train[i][2], crit,\n",
    "                                                 optimizer_conv, exp_lr_scheduler, num_epochs=num_epochs)\n",
    "            else:\n",
    "                net, loss, acc, df = train_model_not_div(net, data_train[i][2], crit,\n",
    "                                                     optimizer_conv, exp_lr_scheduler, num_epochs=num_epochs)\n",
    "            print(\"TRAIN:\\nBEST LOSS: {}  BEST ACC: {}\\n\".format(loss, acc))\n",
    "            \n",
    "            loss, acc, y_hat = test_model(net, data_test[i][2], crit)\n",
    "            print(\"TEST:\\nBEST LOSS: {}  BEST ACC: {}\\n\".format(loss, acc))\n",
    "            res_losses_after[i][0] = loss\n",
    "            res_acc_after[i][0] = acc\n",
    "        else:\n",
    "            loss, acc, y_hat = test_model(net, data_test[i][2], crit)\n",
    "            # data_test[i].append(y_hat)\n",
    "            \n",
    "            timer = time.time()-start\n",
    "            print(\"JUST TEST:\\nBEST LOSS: {}  BEST ACC: {}\\nTIME: {}\".format(loss, acc, timer))\n",
    "            res_losses_before[i][0] = loss\n",
    "            res_acc_before[i][0] = acc         \n",
    "            \n",
    "        \n",
    "\n",
    "        #bot = telepot.Bot('567990957:AAE40n4HsPyvvWGKtsUAZ6AFqyWL8ksKMyQ')\n",
    "        #bot.sendMessage(393484655, '{}\\n Finish!\\nLoss: {:.5}; acc: {:.5}\\nTime: {:.3} min'.format(data_test[i][0], loss, acc, timer/60))\n",
    "        \n",
    "    return net, df"
   ]
  },
  {
   "cell_type": "code",
   "execution_count": null,
   "metadata": {
    "scrolled": true
   },
   "outputs": [
    {
     "name": "stdout",
     "output_type": "stream",
     "text": [
      "./cifar100/ \n",
      " Linear (1000 -> 100)\n",
      "0 0\n",
      "320 0.17938683927059174 9.765625e-05\n",
      "640 0.17913726419210435 0.000146484375\n",
      "960 0.17830358644326527 9.765625e-05\n",
      "1280 0.17934683188796044 0.0001220703125\n",
      "1600 0.17868668258190154 0.0001171875\n",
      "1920 0.1785085697968801 0.000130208333333\n",
      "2240 0.1781112979565348 0.000111607142857\n",
      "2560 0.17805049233138562 0.00010986328125\n",
      "2880 0.178100924524996 0.000108506944444\n",
      "3200 0.17848105534911154 9.765625e-05\n",
      "3520 0.17834934361956337 0.000106534090909\n",
      "3840 0.17852374451855818 9.765625e-05\n",
      "4160 0.17863395993526165 0.000105168269231\n",
      "4480 0.1786114165825503 0.000104631696429\n",
      "4800 0.1784861875573794 9.765625e-05\n",
      "5120 0.17844733111560346 0.000103759765625\n",
      "5440 0.17857327531365788 0.000103400735294\n",
      "5760 0.1787673420376248 0.000108506944444\n",
      "6080 0.17852038082323576 0.000128495065789\n",
      "6400 0.17849235475063324 0.0001220703125\n",
      "6720 0.1786509611067318 0.000116257440476\n",
      "7040 0.1785013509067622 0.000119850852273\n",
      "7360 0.17849670337594073 0.000118885869565\n",
      "7680 0.17848035003989934 0.0001220703125\n",
      "8000 0.17830751645565032 0.000125\n",
      "8320 0.17821913888821236 0.000131460336538\n",
      "8640 0.1782785247873377 0.000130208333333\n",
      "8960 0.17818952378417766 0.000136021205357\n",
      "9280 0.17820156920572808 0.000141433189655\n",
      "9600 0.1782394190132618 0.000146484375\n",
      "9920 0.17807652094671803 0.000144909274194\n",
      "JUST TEST:\n",
      "BEST LOSS: 5.7018908844969145  BEST ACC: 0.004592651757188498\n",
      "TIME: 52.13400387763977\n"
     ]
    }
   ],
   "source": [
    "not_train_net, _ = vgg_run(num_datasets=1)\n",
    "\n",
    "if use_gpu:\n",
    "    not_train_net = not_train_net.cpu()"
   ]
  },
  {
   "cell_type": "code",
   "execution_count": null,
   "metadata": {},
   "outputs": [
    {
     "name": "stdout",
     "output_type": "stream",
     "text": [
      "./cifar100/ \n",
      " Linear (1000 -> 100)\n",
      "Epoch 0/29\n",
      "----------\n",
      "train Loss: 2.3714 Acc: 0.3996\n",
      "val Loss: 1.8583 Acc: 0.5079\n",
      "\n",
      "Epoch 1/29\n",
      "----------\n",
      "train Loss: 2.0451 Acc: 0.4734\n",
      "val Loss: 1.7381 Acc: 0.5254\n",
      "\n",
      "Epoch 2/29\n",
      "----------\n",
      "train Loss: 1.9998 Acc: 0.4830\n",
      "val Loss: 1.6637 Acc: 0.5390\n",
      "\n",
      "Epoch 3/29\n",
      "----------\n",
      "train Loss: 1.9619 Acc: 0.4955\n",
      "val Loss: 1.6253 Acc: 0.5588\n",
      "\n",
      "Epoch 4/29\n",
      "----------\n",
      "train Loss: 1.9380 Acc: 0.5030\n",
      "val Loss: 1.5891 Acc: 0.5534\n",
      "\n",
      "Epoch 5/29\n",
      "----------\n",
      "train Loss: 1.9288 Acc: 0.5030\n",
      "val Loss: 1.5920 Acc: 0.5591\n",
      "\n",
      "Epoch 6/29\n",
      "----------\n",
      "train Loss: 1.9204 Acc: 0.5064\n",
      "val Loss: 1.6806 Acc: 0.5463\n",
      "\n",
      "Epoch 7/29\n",
      "----------\n",
      "train Loss: 1.5501 Acc: 0.5692\n",
      "val Loss: 1.2798 Acc: 0.6344\n",
      "\n",
      "Epoch 8/29\n",
      "----------\n",
      "train Loss: 1.5019 Acc: 0.5769\n",
      "val Loss: 1.2875 Acc: 0.6259\n",
      "\n",
      "Epoch 9/29\n",
      "----------\n",
      "train Loss: 1.4881 Acc: 0.5806\n",
      "val Loss: 1.2726 Acc: 0.6336\n",
      "\n",
      "Epoch 10/29\n",
      "----------\n",
      "train Loss: 1.4852 Acc: 0.5809\n",
      "val Loss: 1.2572 Acc: 0.6385\n",
      "\n",
      "Epoch 11/29\n",
      "----------\n",
      "train Loss: 1.4789 Acc: 0.5836\n",
      "val Loss: 1.2573 Acc: 0.6392\n",
      "\n",
      "Epoch 12/29\n",
      "----------\n",
      "train Loss: 1.4731 Acc: 0.5829\n",
      "val Loss: 1.2763 Acc: 0.6398\n",
      "\n",
      "Epoch 13/29\n",
      "----------\n",
      "train Loss: 1.4712 Acc: 0.5822\n",
      "val Loss: 1.2629 Acc: 0.6450\n",
      "\n",
      "Epoch 14/29\n",
      "----------\n",
      "train Loss: 1.4387 Acc: 0.5939\n",
      "val Loss: 1.2307 Acc: 0.6555\n",
      "\n",
      "Epoch 15/29\n",
      "----------\n",
      "train Loss: 1.4318 Acc: 0.5913\n",
      "val Loss: 1.2072 Acc: 0.6609\n",
      "\n",
      "Epoch 16/29\n",
      "----------\n",
      "train Loss: 1.4347 Acc: 0.5907\n",
      "val Loss: 1.2483 Acc: 0.6485\n",
      "\n",
      "Epoch 17/29\n",
      "----------\n",
      "train Loss: 1.4307 Acc: 0.5921\n",
      "val Loss: 1.2250 Acc: 0.6543\n",
      "\n",
      "Epoch 18/29\n",
      "----------\n",
      "train Loss: 1.4377 Acc: 0.5922\n",
      "val Loss: 1.2408 Acc: 0.6507\n",
      "\n",
      "Epoch 19/29\n",
      "----------\n",
      "train Loss: 1.4351 Acc: 0.5920\n",
      "val Loss: 1.2130 Acc: 0.6596\n",
      "\n",
      "Epoch 20/29\n",
      "----------\n",
      "train Loss: 1.4318 Acc: 0.5935\n",
      "val Loss: 1.2307 Acc: 0.6562\n",
      "\n",
      "Epoch 21/29\n",
      "----------\n",
      "train Loss: 1.4196 Acc: 0.5966\n",
      "val Loss: 1.2312 Acc: 0.6503\n",
      "\n",
      "Epoch 22/29\n",
      "----------\n",
      "train Loss: 1.4342 Acc: 0.5952\n",
      "val Loss: 1.2266 Acc: 0.6500\n",
      "\n",
      "Epoch 23/29\n",
      "----------\n",
      "train Loss: 1.4163 Acc: 0.5974\n",
      "val Loss: 1.2253 Acc: 0.6483\n",
      "\n",
      "Epoch 24/29\n",
      "----------\n",
      "train Loss: 1.4356 Acc: 0.5917\n",
      "val Loss: 1.2258 Acc: 0.6487\n",
      "\n",
      "Epoch 25/29\n",
      "----------\n",
      "train Loss: 1.4299 Acc: 0.5941\n",
      "val Loss: 1.2159 Acc: 0.6558\n",
      "\n",
      "Epoch 26/29\n",
      "----------\n",
      "train Loss: 1.4274 Acc: 0.5949\n",
      "val Loss: 1.2336 Acc: 0.6572\n",
      "\n",
      "Epoch 27/29\n",
      "----------\n",
      "train Loss: 1.4264 Acc: 0.5931\n",
      "val Loss: 1.2306 Acc: 0.6521\n",
      "\n",
      "Epoch 28/29\n",
      "----------\n",
      "train Loss: 1.4308 Acc: 0.5942\n",
      "val Loss: 1.2281 Acc: 0.6518\n",
      "\n",
      "Epoch 29/29\n",
      "----------\n",
      "train Loss: 1.4267 Acc: 0.5936\n"
     ]
    }
   ],
   "source": [
    "filename = 'vgg19_cifar100'\n",
    "train_net, fraim = vgg_run(num_datasets=1, need_train=True, num_epochs=30)\n",
    "\n",
    "if use_gpu:\n",
    "    train_net = train_net.cpu()\n",
    "    \n",
    "print(fraim)"
   ]
  },
  {
   "cell_type": "code",
   "execution_count": null,
   "metadata": {
    "collapsed": true
   },
   "outputs": [],
   "source": [
    "torch.save(train_net.state_dict(), file_path+filename)\n",
    "fraim.to_csv(filename+'.csv', encoding='utf-8')"
   ]
  },
  {
   "cell_type": "code",
   "execution_count": 16,
   "metadata": {
    "scrolled": true
   },
   "outputs": [
    {
     "name": "stdout",
     "output_type": "stream",
     "text": [
      "./cifar100/ \n",
      " Linear (1000 -> 100)\n",
      "Epoch 0/4\n",
      "----------\n",
      "train Loss: 1.8719 Acc: 0.5109\n",
      "val Loss: 1.6120 Acc: 0.5599\n",
      "\n",
      "Epoch 1/4\n",
      "----------\n",
      "train Loss: 1.8715 Acc: 0.5141\n",
      "val Loss: 1.5647 Acc: 0.5709\n",
      "\n",
      "Epoch 2/4\n",
      "----------\n",
      "train Loss: 1.8798 Acc: 0.5145\n",
      "val Loss: 1.5587 Acc: 0.5685\n",
      "\n",
      "Epoch 3/4\n",
      "----------\n",
      "train Loss: 1.8779 Acc: 0.5139\n",
      "val Loss: 1.6081 Acc: 0.5681\n",
      "\n",
      "Epoch 4/4\n",
      "----------\n",
      "train Loss: 1.8570 Acc: 0.5202\n",
      "val Loss: 1.5587 Acc: 0.5645\n",
      "\n",
      "Training complete in 17m 50s\n",
      "Best val Acc: 0.570887\n",
      "TRAIN:\n",
      "BEST LOSS: 1.5647228192597533  BEST ACC: 0.5708865814696485\n",
      "\n",
      "0 0\n",
      "320 0.052255529537796976 0.01689453125\n",
      "640 0.05401843935251236 0.0166015625\n",
      "960 0.05411349982023239 0.0170572916667\n",
      "1280 0.0542140225879848 0.017041015625\n",
      "1600 0.05335339888930321 0.0171484375\n",
      "1920 0.054104483934740225 0.0170247395833\n",
      "2240 0.05332215768950326 0.0171037946429\n",
      "2560 0.0532417600043118 0.0171630859375\n",
      "2880 0.05319616666270627 0.0171223958333\n",
      "3200 0.053765947744250295 0.01689453125\n",
      "3520 0.054255355657501655 0.0167169744318\n",
      "3840 0.05434960443526506 0.0167805989583\n",
      "4160 0.054077430814504626 0.0167818509615\n",
      "4480 0.05412834307977132 0.0167201450893\n",
      "4800 0.05451896426578363 0.0166145833333\n",
      "5120 0.05450060439761728 0.0165588378906\n",
      "5440 0.054329280905863815 0.0165785845588\n",
      "5760 0.05442717580331696 0.0165690104167\n",
      "6080 0.05424581597510137 0.0166375411184\n",
      "6400 0.054069279227405787 0.0167626953125\n",
      "6720 0.05397039376908824 0.0167457217262\n",
      "7040 0.05393137327310714 0.0167258522727\n",
      "7360 0.05397322973155457 0.0167246942935\n",
      "7680 0.053871854301542045 0.0167846679688\n",
      "8000 0.05384014865756035 0.016765625\n",
      "8320 0.053530614622510395 0.0168269230769\n",
      "8640 0.053558912279981157 0.0168077256944\n",
      "8960 0.05369988734434758 0.0167898995536\n",
      "9280 0.05387955571299997 0.0167598329741\n",
      "9600 0.053970538998643555 0.016767578125\n",
      "9920 0.05393013921716521 0.0167842741935\n",
      "TEST:\n",
      "BEST LOSS: 1.7243799957604453  BEST ACC: 0.5372404153354633\n",
      "\n",
      "       accs    losses\n",
      "0  0.510875  1.871935\n",
      "1  0.559904  1.612035\n",
      "2  0.514050  1.871495\n",
      "3  0.570887  1.564723\n",
      "4  0.514475  1.879817\n",
      "5  0.568490  1.558670\n",
      "6  0.513925  1.877856\n",
      "7  0.568091  1.608105\n",
      "8  0.520225  1.856962\n",
      "9  0.564497  1.558718\n"
     ]
    }
   ],
   "source": [
    "filename = 'vgg19_cifar100'\n",
    "train_net = models.vgg19(pretrained=True)\n",
    "for param in train_net.parameters():\n",
    "    param.requires_grad = False  \n",
    "\n",
    "            # добавление посленего слоя\n",
    "n = len(train_net.classifier) - 1   # номер последнего слоя \n",
    "last_layer_ftrs = train_net.classifier[(n)].out_features\n",
    "num_of_layer = '{}'.format(n+1)\n",
    "train_net.classifier.add_module(num_of_layer, nn.Linear(last_layer_ftrs, data_test[0][3]))   #добавление нового слоя\n",
    "print(data_train[0][0], \"\\n\", train_net.classifier[(7)])\n",
    "\n",
    "train_net.load_state_dict(torch.load(file_path+filename))\n",
    "train_net, fraim = vgg_run(num_datasets=1, need_train=True, net=train_net, num_epochs=5)\n",
    "\n",
    "if use_gpu:\n",
    "    train_net = train_net.cpu()\n",
    "    \n",
    "print(fraim)"
   ]
  },
  {
   "cell_type": "markdown",
   "metadata": {},
   "source": [
    "### RESNET"
   ]
  },
  {
   "cell_type": "code",
   "execution_count": 15,
   "metadata": {
    "collapsed": true
   },
   "outputs": [],
   "source": [
    "def resnet_run(num_datasets, need_train = False, net = None, num_epochs=25):\n",
    "    l = [x for x in range(num_datasets)]\n",
    "    df = None\n",
    "    # range(res_losses_before.shape[0])\n",
    "    for i in l:\n",
    "        start = time.time()\n",
    "        \n",
    "        if (net is None):\n",
    "            # загрузка сети\n",
    "            net = models.resnet50(pretrained=True)\n",
    "            for param in net.parameters():\n",
    "                param.requires_grad = False  \n",
    "\n",
    "            # добавление посленего слоя\n",
    "            last_layer_ftrs = net.fc.out_features\n",
    "            net.add_module('fc2', nn.Linear(last_layer_ftrs, data_test[i][3]))   #добавление нового слоя\n",
    "            print(net.fc2)\n",
    "\n",
    "        if use_gpu:\n",
    "            net = net.cuda(CUDA_DEVICE)    \n",
    "        \n",
    "        crit = nn.CrossEntropyLoss()\n",
    "        if use_gpu:\n",
    "            crit = crit.cuda(CUDA_DEVICE)\n",
    "\n",
    "        loss, acc = 0.0, 0.0\n",
    "        \n",
    "        if need_train:\n",
    "            # Observe that only parameters of final layer are being optimized as opoosed to before.\n",
    "            optimizer_conv = optim.SGD(net.fc2.parameters(), lr=0.001, momentum=0.9)\n",
    "            # Decay LR by a factor of 0.1 every 7 epochs\n",
    "            exp_lr_scheduler = lr_scheduler.StepLR(optimizer_conv, step_size=7, gamma=0.1)\n",
    "            \n",
    "            if (type(data_train[i][2]) is dict):\n",
    "                net, loss, acc, df = train_model_div(net, data_train[i][2], crit,\n",
    "                                                 optimizer_conv, exp_lr_scheduler, num_epochs=num_epochs)\n",
    "            else:\n",
    "                net, loss, acc, df = train_model_not_div(net, data_train[i][2], crit,\n",
    "                                                     optimizer_conv, exp_lr_scheduler, num_epochs=num_epochs)\n",
    "            print(\"TRAIN:\\nBEST LOSS: {}  BEST ACC: {}\\n\".format(loss, acc))\n",
    "            \n",
    "            loss, acc, y_hat = test_model(net, data_test[i][2], crit)\n",
    "            print(\"TEST:\\nBEST LOSS: {}  BEST ACC: {}\\n\".format(loss, acc))\n",
    "            res_losses_after[i][0] = loss\n",
    "            res_acc_after[i][0] = acc\n",
    "        else:\n",
    "            loss, acc, y_hat = test_model(net, data_test[i][2], crit)\n",
    "            # data_test[i].append(y_hat)\n",
    "            \n",
    "            timer = time.time()-start\n",
    "            print(\"JUST TEST:\\nBEST LOSS: {}  BEST ACC: {}\\nTIME: {}\".format(loss, acc, timer))\n",
    "            res_losses_before[i][0] = loss\n",
    "            res_acc_before[i][0] = acc         \n",
    "            \n",
    "        \n",
    "\n",
    "        #bot = telepot.Bot('567990957:AAE40n4HsPyvvWGKtsUAZ6AFqyWL8ksKMyQ')\n",
    "        #bot.sendMessage(393484655, '{}\\n Finish!\\nLoss: {:.5}; acc: {:.5}\\nTime: {:.3} min'.format(data_test[i][0], loss, acc, timer/60))\n",
    "        \n",
    "    return net, df"
   ]
  },
  {
   "cell_type": "code",
   "execution_count": 16,
   "metadata": {
    "scrolled": true
   },
   "outputs": [
    {
     "name": "stdout",
     "output_type": "stream",
     "text": [
      "Linear (1000 -> 10)\n",
      "0 0\n",
      "320 0.32942770421504974 0.0\n",
      "640 0.3275272861123085 0.0\n",
      "960 0.3286608914534251 0.0\n",
      "1280 0.3293588399887085 0.0\n",
      "1600 0.32914262771606445 0.0\n",
      "1920 0.3281154294808706 0.0\n",
      "2240 0.32747288516589573 0.0\n",
      "2560 0.32765891440212724 0.0\n",
      "2880 0.327825767132971 0.0\n",
      "3200 0.3278397226333618 0.0\n",
      "3520 0.32790236473083495 0.0\n",
      "3840 0.32780212511618934 0.0\n",
      "4160 0.3278217744368773 0.0\n",
      "4480 0.32760423741170336 0.0\n",
      "4800 0.32799403091271717 0.0\n",
      "5120 0.3277718203142285 0.0\n",
      "5440 0.32792695182211257 0.0\n",
      "5760 0.3279934682779842 0.0\n",
      "6080 0.3280171835108807 0.0\n",
      "6400 0.32828890919685366 0.0\n",
      "6720 0.32819720946607134 0.0\n",
      "7040 0.32831864194436505 0.0\n",
      "7360 0.32851565428402113 0.0\n",
      "7680 0.3286804084976514 0.0\n",
      "8000 0.32859255802631376 0.0\n",
      "8320 0.32867204615702994 0.0\n",
      "8640 0.32868839855547305 0.0\n",
      "8960 0.32866241005914554 0.0\n",
      "9280 0.3285451307378966 0.0\n",
      "9600 0.3284474171201388 0.0\n",
      "9920 0.32858691023242087 0.0\n",
      "JUST TEST:\n",
      "BEST LOSS: 10.514185929831605  BEST ACC: 0.0\n",
      "TIME: 26.281633615493774\n"
     ]
    }
   ],
   "source": [
    "not_train_net, _ = resnet_run(num_datasets=1)\n",
    "\n",
    "if use_gpu:\n",
    "    not_train_net = not_train_net.cpu()"
   ]
  },
  {
   "cell_type": "code",
   "execution_count": 16,
   "metadata": {
    "scrolled": true
   },
   "outputs": [
    {
     "name": "stdout",
     "output_type": "stream",
     "text": [
      "Linear (1000 -> 10)\n",
      "Epoch 0/14\n",
      "----------\n"
     ]
    },
    {
     "ename": "RuntimeError",
     "evalue": "there are no graph nodes that require computing gradients",
     "output_type": "error",
     "traceback": [
      "\u001b[0;31m---------------------------------------------------------------------------\u001b[0m",
      "\u001b[0;31mRuntimeError\u001b[0m                              Traceback (most recent call last)",
      "\u001b[0;32m<ipython-input-16-aee5846a9ee6>\u001b[0m in \u001b[0;36m<module>\u001b[0;34m()\u001b[0m\n\u001b[1;32m      1\u001b[0m \u001b[0mfilename\u001b[0m \u001b[0;34m=\u001b[0m \u001b[0;34m'resnet50_mnist'\u001b[0m\u001b[0;34m\u001b[0m\u001b[0m\n\u001b[0;32m----> 2\u001b[0;31m \u001b[0mtrain_net\u001b[0m\u001b[0;34m,\u001b[0m \u001b[0mfraim\u001b[0m \u001b[0;34m=\u001b[0m \u001b[0mresnet_run\u001b[0m\u001b[0;34m(\u001b[0m\u001b[0mnum_datasets\u001b[0m\u001b[0;34m=\u001b[0m\u001b[0;36m1\u001b[0m\u001b[0;34m,\u001b[0m \u001b[0mneed_train\u001b[0m\u001b[0;34m=\u001b[0m\u001b[0;32mTrue\u001b[0m\u001b[0;34m,\u001b[0m \u001b[0mnum_epochs\u001b[0m\u001b[0;34m=\u001b[0m\u001b[0;36m15\u001b[0m\u001b[0;34m)\u001b[0m\u001b[0;34m\u001b[0m\u001b[0m\n\u001b[0m\u001b[1;32m      3\u001b[0m \u001b[0;34m\u001b[0m\u001b[0m\n\u001b[1;32m      4\u001b[0m \u001b[0;32mif\u001b[0m \u001b[0muse_gpu\u001b[0m\u001b[0;34m:\u001b[0m\u001b[0;34m\u001b[0m\u001b[0m\n\u001b[1;32m      5\u001b[0m     \u001b[0mtrain_net\u001b[0m \u001b[0;34m=\u001b[0m \u001b[0mtrain_net\u001b[0m\u001b[0;34m.\u001b[0m\u001b[0mcpu\u001b[0m\u001b[0;34m(\u001b[0m\u001b[0;34m)\u001b[0m\u001b[0;34m\u001b[0m\u001b[0m\n",
      "\u001b[0;32m<ipython-input-15-40fb8d09f4be>\u001b[0m in \u001b[0;36mresnet_run\u001b[0;34m(num_datasets, need_train, net, num_epochs)\u001b[0m\n\u001b[1;32m     37\u001b[0m             \u001b[0;32melse\u001b[0m\u001b[0;34m:\u001b[0m\u001b[0;34m\u001b[0m\u001b[0m\n\u001b[1;32m     38\u001b[0m                 net, loss, acc, df = train_model_not_div(net, data_train[i][2], crit,\n\u001b[0;32m---> 39\u001b[0;31m                                                      optimizer_conv, exp_lr_scheduler, num_epochs=num_epochs)\n\u001b[0m\u001b[1;32m     40\u001b[0m             \u001b[0mprint\u001b[0m\u001b[0;34m(\u001b[0m\u001b[0;34m\"TRAIN:\\nBEST LOSS: {}  BEST ACC: {}\\n\"\u001b[0m\u001b[0;34m.\u001b[0m\u001b[0mformat\u001b[0m\u001b[0;34m(\u001b[0m\u001b[0mloss\u001b[0m\u001b[0;34m,\u001b[0m \u001b[0macc\u001b[0m\u001b[0;34m)\u001b[0m\u001b[0;34m)\u001b[0m\u001b[0;34m\u001b[0m\u001b[0m\n\u001b[1;32m     41\u001b[0m \u001b[0;34m\u001b[0m\u001b[0m\n",
      "\u001b[0;32m<ipython-input-12-9a0dd5939667>\u001b[0m in \u001b[0;36mtrain_model_not_div\u001b[0;34m(model, dataloaders, criterion, optimizer, scheduler, num_epochs)\u001b[0m\n\u001b[1;32m     58\u001b[0m                 \u001b[0;31m# backward + optimize only if in training phase\u001b[0m\u001b[0;34m\u001b[0m\u001b[0;34m\u001b[0m\u001b[0m\n\u001b[1;32m     59\u001b[0m                 \u001b[0;32mif\u001b[0m \u001b[0mphase\u001b[0m \u001b[0;34m==\u001b[0m \u001b[0;34m'train'\u001b[0m\u001b[0;34m:\u001b[0m\u001b[0;34m\u001b[0m\u001b[0m\n\u001b[0;32m---> 60\u001b[0;31m                     \u001b[0mloss\u001b[0m\u001b[0;34m.\u001b[0m\u001b[0mbackward\u001b[0m\u001b[0;34m(\u001b[0m\u001b[0;34m)\u001b[0m\u001b[0;34m\u001b[0m\u001b[0m\n\u001b[0m\u001b[1;32m     61\u001b[0m                     \u001b[0moptimizer\u001b[0m\u001b[0;34m.\u001b[0m\u001b[0mstep\u001b[0m\u001b[0;34m(\u001b[0m\u001b[0;34m)\u001b[0m\u001b[0;34m\u001b[0m\u001b[0m\n\u001b[1;32m     62\u001b[0m \u001b[0;34m\u001b[0m\u001b[0m\n",
      "\u001b[0;32m/home/a.bogatyreva/anaconda3/lib/python3.6/site-packages/torch/autograd/variable.py\u001b[0m in \u001b[0;36mbackward\u001b[0;34m(self, gradient, retain_graph, create_graph, retain_variables)\u001b[0m\n\u001b[1;32m    154\u001b[0m                 \u001b[0mVariable\u001b[0m\u001b[0;34m.\u001b[0m\u001b[0;34m\u001b[0m\u001b[0m\n\u001b[1;32m    155\u001b[0m         \"\"\"\n\u001b[0;32m--> 156\u001b[0;31m         \u001b[0mtorch\u001b[0m\u001b[0;34m.\u001b[0m\u001b[0mautograd\u001b[0m\u001b[0;34m.\u001b[0m\u001b[0mbackward\u001b[0m\u001b[0;34m(\u001b[0m\u001b[0mself\u001b[0m\u001b[0;34m,\u001b[0m \u001b[0mgradient\u001b[0m\u001b[0;34m,\u001b[0m \u001b[0mretain_graph\u001b[0m\u001b[0;34m,\u001b[0m \u001b[0mcreate_graph\u001b[0m\u001b[0;34m,\u001b[0m \u001b[0mretain_variables\u001b[0m\u001b[0;34m)\u001b[0m\u001b[0;34m\u001b[0m\u001b[0m\n\u001b[0m\u001b[1;32m    157\u001b[0m \u001b[0;34m\u001b[0m\u001b[0m\n\u001b[1;32m    158\u001b[0m     \u001b[0;32mdef\u001b[0m \u001b[0mregister_hook\u001b[0m\u001b[0;34m(\u001b[0m\u001b[0mself\u001b[0m\u001b[0;34m,\u001b[0m \u001b[0mhook\u001b[0m\u001b[0;34m)\u001b[0m\u001b[0;34m:\u001b[0m\u001b[0;34m\u001b[0m\u001b[0m\n",
      "\u001b[0;32m/home/a.bogatyreva/anaconda3/lib/python3.6/site-packages/torch/autograd/__init__.py\u001b[0m in \u001b[0;36mbackward\u001b[0;34m(variables, grad_variables, retain_graph, create_graph, retain_variables)\u001b[0m\n\u001b[1;32m     96\u001b[0m \u001b[0;34m\u001b[0m\u001b[0m\n\u001b[1;32m     97\u001b[0m     Variable._execution_engine.run_backward(\n\u001b[0;32m---> 98\u001b[0;31m         variables, grad_variables, retain_graph)\n\u001b[0m\u001b[1;32m     99\u001b[0m \u001b[0;34m\u001b[0m\u001b[0m\n\u001b[1;32m    100\u001b[0m \u001b[0;34m\u001b[0m\u001b[0m\n",
      "\u001b[0;31mRuntimeError\u001b[0m: there are no graph nodes that require computing gradients"
     ]
    }
   ],
   "source": [
    "filename = 'resnet50_mnist'\n",
    "train_net, fraim = resnet_run(num_datasets=1, need_train=True, num_epochs=15)\n",
    "\n",
    "if use_gpu:\n",
    "    train_net = train_net.cpu()\n",
    "    \n",
    "print(fraim)"
   ]
  },
  {
   "cell_type": "code",
   "execution_count": null,
   "metadata": {
    "collapsed": true
   },
   "outputs": [],
   "source": [
    "torch.save(train_net.state_dict(), file_path+filename)\n",
    "fraim.to_csv(filename+'.csv', encoding='utf-8')"
   ]
  },
  {
   "cell_type": "markdown",
   "metadata": {},
   "source": [
    "INCEPTION V3"
   ]
  },
  {
   "cell_type": "code",
   "execution_count": null,
   "metadata": {
    "collapsed": true,
    "scrolled": true
   },
   "outputs": [],
   "source": [
    "# range(res_losses_before.shape[0])\n",
    "for i in range(1):\n",
    "    \n",
    "    # загрузка сети\n",
    "    net = models.inception_v3(pretrained=True)\n",
    "    for param in net.parameters():\n",
    "        param.requires_grad = False  \n",
    "        \n",
    "    # добавление посленего слоя \n",
    "    last_layer_ftrs = net.fc.out_features\n",
    "    net.add_module('fc2', nn.Linear(last_layer_ftrs, data_test[i][3]))   #добавление нового слоя\n",
    "    print(net.fc2)\n",
    "    \n",
    "    crit = nn.CrossEntropyLoss()\n",
    "\n",
    "    loss, acc, y_hat = test_model(net, data_test[i][2], crit)\n",
    "    res_losses_before[i].append(y_hat)\n",
    "    res_losses[i][0] = loss\n",
    "    \n",
    "    bot = telepot.Bot('567990957:AAE40n4HsPyvvWGKtsUAZ6AFqyWL8ksKMyQ')    \n",
    "    bot.sendMessage(393484655, '{} - Finish! loss: {}; acc: {} '.format(data_test[i][0], loss, acc))"
   ]
  },
  {
   "cell_type": "code",
   "execution_count": null,
   "metadata": {
    "collapsed": true
   },
   "outputs": [],
   "source": [
    "print(data_test[0])"
   ]
  },
  {
   "cell_type": "markdown",
   "metadata": {},
   "source": [
    "DENSENET"
   ]
  },
  {
   "cell_type": "code",
   "execution_count": null,
   "metadata": {
    "collapsed": true
   },
   "outputs": [],
   "source": [
    "# DenseNet121\n",
    "densenet121 = models.densenet121(pretrained=True)\n",
    "for param in densenet121.parameters():\n",
    "    param.requires_grad = False\n",
    "    \n",
    "print(densenet121)"
   ]
  },
  {
   "cell_type": "code",
   "execution_count": null,
   "metadata": {
    "collapsed": true
   },
   "outputs": [],
   "source": [
    "# range(res_losses_before.shape[0])\n",
    "for i in range(1):\n",
    "    bot = telepot.Bot('567990957:AAE40n4HsPyvvWGKtsUAZ6AFqyWL8ksKMyQ')\n",
    "    \n",
    "    # загрузка сети\n",
    "    net = models.densenet121(pretrained=True)\n",
    "    for param in net.parameters():\n",
    "        param.requires_grad = False  \n",
    "        \n",
    "    # добавление посленего слоя \n",
    "    last_layer_ftrs = net.classifier.out_features\n",
    "    net.add_module('fc2', nn.Linear(last_layer_ftrs, data_test[i][3]))   #добавление нового слоя\n",
    "    print(net.fc2)\n",
    "    \n",
    "    crit = nn.CrossEntropyLoss()\n",
    "\n",
    "    loss, acc, y_hat = test_model(net, data_test[i][2], crit)\n",
    "    data_test[i].append(y_hat)\n",
    "    res_losses_before[i][0] = loss\n",
    "    \n",
    "    bot.sendMessage(393484655, '{} - Finish! loss: {}; acc: {} '.format(data_test[i][0], loss, acc))"
   ]
  },
  {
   "cell_type": "markdown",
   "metadata": {},
   "source": [
    "SQUEEZENET"
   ]
  },
  {
   "cell_type": "code",
   "execution_count": null,
   "metadata": {
    "collapsed": true
   },
   "outputs": [],
   "source": [
    "# Squeezenet 1.1\n",
    "squeeze = models.squeezenet1_1(pretrained=True)\n",
    "for param in squeeze.parameters():\n",
    "    param.requires_grad = False\n",
    "\n",
    "print(squeeze)"
   ]
  },
  {
   "cell_type": "code",
   "execution_count": null,
   "metadata": {
    "collapsed": true
   },
   "outputs": [],
   "source": []
  },
  {
   "cell_type": "markdown",
   "metadata": {},
   "source": [
    "## Анализ признаков"
   ]
  },
  {
   "cell_type": "code",
   "execution_count": 5,
   "metadata": {
    "collapsed": true
   },
   "outputs": [],
   "source": [
    "# объединение всех данных по столбцу i\n",
    "# вход: список тензоров; выход: список чисел\n",
    "def get_full_list(output, i=0):\n",
    "    t = []\n",
    "    for data in output:\n",
    "        t.extend(data.numpy()[:, i])        \n",
    "    return t\n",
    "\n",
    "\n",
    "# распределение элементов признака i по спискам, соотв. классам\n",
    "# zi - iй признак, y - предсказанный вектор; num_classes - число классов\n",
    "def elements_distrib(zi, y, num_classes):\n",
    "    buf = {i: [] for i in range(num_classes)}    \n",
    "    for i in range(len(y)):\n",
    "        buf[y[i]].append(zi[i])       \n",
    "    return buf\n",
    "\n",
    "\n",
    "# визуалиация выхода по признаку i\n",
    "def featureshow(zi, j):\n",
    "    # получаем списки с рапределением элементов по классам\n",
    "    dict_by_classes = elements_distrib(zi, data_test[j][4], data_test[j][3])\n",
    "    \n",
    "    for k in dict_by_classes.keys():\n",
    "        if (len(dict_by_classes[k]) == 0):\n",
    "            print('Class {}: len - {}'.format(k, len(dict_by_classes[k])))\n",
    "        else:\n",
    "            print('Class {}: len - {}; 0 - {} %'.format(k, len(dict_by_classes[k]),\n",
    "                                                    100*dict_by_classes[k].count(0)/len(dict_by_classes[k])))"
   ]
  },
  {
   "cell_type": "code",
   "execution_count": null,
   "metadata": {
    "collapsed": true
   },
   "outputs": [],
   "source": [
    "print(data_test[3])"
   ]
  },
  {
   "cell_type": "markdown",
   "metadata": {},
   "source": [
    "ALEXNET"
   ]
  },
  {
   "cell_type": "code",
   "execution_count": null,
   "metadata": {
    "collapsed": true
   },
   "outputs": [],
   "source": [
    "# загрузка сети, снятие классификатора\n",
    "net = models.alexnet(pretrained=True)\n",
    "for param in net.parameters():\n",
    "    param.requires_grad = False\n",
    "net.classifier = nn.Sequential()\n",
    "print(net)"
   ]
  },
  {
   "cell_type": "code",
   "execution_count": null,
   "metadata": {
    "collapsed": true,
    "scrolled": false
   },
   "outputs": [],
   "source": [
    "l = [2, 3]\n",
    "\n",
    "for i in l:    \n",
    "    # прогон сети по данным; БЕЗ КЛАССИФИКАЦИИ\n",
    "    output = []\n",
    "    for d, target in data_test[i][2]:\n",
    "        # data: batch_sizex3x224x224\n",
    "        d = Variable(d, volatile=True)\n",
    "        target = Variable(target)\n",
    "        output.append((net(d)).data)\n",
    "    #print(output)\n",
    "    \n",
    "    print(data_test[i][0], \"\\n\")\n",
    "    \n",
    "    # число признаков = (output[0]).shape[1]; output[0] - тензор batch_size*num_features\n",
    "    num_features = 32\n",
    "\n",
    "    # для каждого признака\n",
    "    for nf in range(num_features):\n",
    "\n",
    "        # объединение списков всех значений на выходе классификации\n",
    "        zi = get_full_list(output, nf)\n",
    "        print('Признак {}. Число элементов в признаке: {}'.format(nf, len(zi)))\n",
    "\n",
    "        # визуализация\n",
    "        featureshow(zi, i)\n",
    "\n",
    "    bot = telepot.Bot('567990957:AAE40n4HsPyvvWGKtsUAZ6AFqyWL8ksKMyQ')\n",
    "    bot.sendMessage(393484655, '{} - Features. Finish!'.format(data_test[i][0]))\n",
    "    \n",
    "    \n",
    "        # нахождение расстояния между графиками\n",
    "        # ???\n",
    "\n",
    "        # подсчет auc ???"
   ]
  },
  {
   "cell_type": "code",
   "execution_count": null,
   "metadata": {
    "collapsed": true
   },
   "outputs": [],
   "source": [
    "from sklearn.metrics import roc_curve, auc\n",
    "# подсчет AUC для одного признака\n",
    "def AUC_for_feature(test_labels, test_predicts, num_classes):\n",
    "    buf = []\n",
    "    # i - номер positive class\n",
    "    for i in range(num_classes):\n",
    "        ftp, tpr, thresholds = roc_curve(test_labels, test_predicts, pos_label=i)\n",
    "        buf.append(auc(ftp, tpr))\n",
    "    \n",
    "    mean_auc = buf.numpy().mean()\n",
    "    std_auc = buf.numpy().std()\n",
    "    min_auc = min(buf)\n",
    "    max_auc = max(buf)\n",
    "    print(mean_auc, std_auc, min_auc, max_auc)\n",
    "    \n",
    "    # return ???"
   ]
  },
  {
   "cell_type": "code",
   "execution_count": null,
   "metadata": {
    "collapsed": true
   },
   "outputs": [],
   "source": [
    "# визуализация\n",
    "    height = []\n",
    "    for key in dict_by_classes.keys():\n",
    "        height.append(len(dict_by_classes[key]))\n",
    "        \n",
    "    fig = plt.figure()\n",
    "    plt.bar(dict_by_classes.keys(), height)\n",
    "    plt.grid(True)\n",
    "    plt.show()"
   ]
  },
  {
   "cell_type": "code",
   "execution_count": null,
   "metadata": {
    "collapsed": true,
    "scrolled": true
   },
   "outputs": [],
   "source": [
    "for d, target in data_test[0][2]:\n",
    "    print(target)"
   ]
  },
  {
   "cell_type": "code",
   "execution_count": null,
   "metadata": {
    "collapsed": true
   },
   "outputs": [],
   "source": []
  },
  {
   "cell_type": "code",
   "execution_count": null,
   "metadata": {
    "collapsed": true,
    "scrolled": false
   },
   "outputs": [],
   "source": [
    "# VGG16\n",
    "\n",
    "for i in range(res_losses_before.shape[0]):\n",
    "    net = models.vgg16(pretrained=True)\n",
    "    for param in net.parameters():\n",
    "        param.requires_grad = False  \n",
    "        \n",
    "    # add new last layer\n",
    "    n = len(net.classifier) - 1   # номер последнего слоя \n",
    "    last_layer_ftrs = net.classifier[(n)].out_features\n",
    "    num_of_layer = '{}'.format(n+1)\n",
    "    net.classifier.add_module(num_of_layer, nn.Linear(last_layer_ftrs, data_test[i][3]))   #добавление нового слоя\n",
    "    print(net.classifier)\n",
    "    \n",
    "    crit = nn.CrossEntropyLoss()\n",
    "\n",
    "    loss, acc = test_model(net, data_test[i][2], crit)\n",
    "    res_losses_before[i][1] = loss\n",
    "    \n",
    "    bot.sendMessage(393484655, '{} - Finish! loss: {}; acc: {} '.format(data_test[i][0], loss, acc))"
   ]
  },
  {
   "cell_type": "markdown",
   "metadata": {
    "collapsed": true
   },
   "source": [
    "# *РЕЗУЛЬТАТЫ*\n",
    "----------------------"
   ]
  },
  {
   "cell_type": "code",
   "execution_count": 3,
   "metadata": {
    "collapsed": true
   },
   "outputs": [],
   "source": []
  }
 ],
 "metadata": {
  "kernelspec": {
   "display_name": "Python 3",
   "language": "python",
   "name": "python3"
  },
  "language_info": {
   "codemirror_mode": {
    "name": "ipython",
    "version": 3
   },
   "file_extension": ".py",
   "mimetype": "text/x-python",
   "name": "python",
   "nbconvert_exporter": "python",
   "pygments_lexer": "ipython3",
   "version": "3.6.3"
  }
 },
 "nbformat": 4,
 "nbformat_minor": 2
}
