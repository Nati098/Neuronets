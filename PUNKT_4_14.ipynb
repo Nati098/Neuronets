{
 "cells": [
  {
   "cell_type": "code",
   "execution_count": 1,
   "metadata": {
    "collapsed": true
   },
   "outputs": [],
   "source": [
    "% matplotlib inline\n",
    "import matplotlib.pyplot as plt\n",
    "import numpy as np\n",
    "import pandas as pd\n",
    "import math\n",
    "\n",
    "from neupy import algorithms, layers, estimators, environment\n",
    "from IPython import display\n",
    "\n",
    "import os\n",
    "import time\n",
    "import math\n",
    "\n",
    "np.random.seed(11)\n",
    "\n",
    "RES_DIR = './PUNKT_4_14/'\n",
    "DATA_DIR = './CCPP/'\n",
    "HOME_DIR = './'\n",
    "use_gpu = False"
   ]
  },
  {
   "cell_type": "code",
   "execution_count": 2,
   "metadata": {},
   "outputs": [
    {
     "name": "stdout",
     "output_type": "stream",
     "text": [
      "(9372, 5)\n"
     ]
    }
   ],
   "source": [
    "init_data = pd.read_csv(HOME_DIR+'split_data/all_set.csv').values\n",
    "X = init_data[:, :4]\n",
    "y = init_data[:, 4]\n",
    "print(init_data.shape)\n",
    "\n",
    "IN_SIZE = init_data.shape[1]-1"
   ]
  },
  {
   "cell_type": "code",
   "execution_count": 3,
   "metadata": {
    "collapsed": true
   },
   "outputs": [],
   "source": [
    "from torch.utils.data import Dataset\n",
    "class CCPPDataset(Dataset):\n",
    "    def __init__(self, data):\n",
    "        self.data = data\n",
    "        \n",
    "    def __len__(self):\n",
    "        return len(self.data)\n",
    "    \n",
    "    def __getitem__(self, idx):\n",
    "        return self.data[idx]\n",
    "    \n",
    "datasets = {x: CCPPDataset(pd.read_csv(HOME_DIR+'split_data/'+x+'_set.csv').values)\n",
    "                  for x in ['train', 'test']}\n",
    "\n",
    "dataset_sizes = {x: len(datasets[x]) for x in ['train', 'test']}"
   ]
  },
  {
   "cell_type": "markdown",
   "metadata": {},
   "source": [
    "--------------------------------------------"
   ]
  },
  {
   "cell_type": "code",
   "execution_count": 58,
   "metadata": {},
   "outputs": [],
   "source": [
    "from sklearn.model_selection import KFold\n",
    "n_splits=10\n",
    "kf = KFold(n_splits=n_splits)\n",
    "\n",
    "dict1 = {'train': [], 'test': []}\n",
    "\n",
    "num_epochs = 10"
   ]
  },
  {
   "cell_type": "code",
   "execution_count": 59,
   "metadata": {},
   "outputs": [
    {
     "name": "stdout",
     "output_type": "stream",
     "text": [
      "cgnet is ready!\n"
     ]
    }
   ],
   "source": [
    "num_neuro_1 = 10\n",
    "num_neuro_2 = 7\n",
    "num_neuro_3 = 3\n",
    "name = 'softplus'\n",
    "environment.reproducible()\n",
    "cgnet = algorithms.gd.quasi_newton.QuasiNewton(\n",
    "    connection=[layers.Input(IN_SIZE), layers.Softplus(num_neuro_1),\n",
    "        layers.Softplus(num_neuro_2), layers.Softplus(num_neuro_3), layers.Tanh(1)],\n",
    "    error='mse', update_function='bfgs',\n",
    "    verbose=False, show_epoch=10)\n",
    "print('cgnet is ready!')"
   ]
  },
  {
   "cell_type": "code",
   "execution_count": 60,
   "metadata": {},
   "outputs": [
    {
     "data": {
      "image/png": "[encoded data removed]",
      "text/plain": [
       "<matplotlib.figure.Figure at 0x283c0bc4cf8>"
      ]
     },
     "metadata": {},
     "output_type": "display_data"
    },
    {
     "name": "stdout",
     "output_type": "stream",
     "text": [
      "Number train: 4\n",
      "Epoch 0/9\n",
      "train:  0.003077863020128866\n",
      "test:  0.0038341976332087143\n",
      "----------\n",
      "...0   ...1   ...2   ...3   ...4   ...5   ...6   ...7   ...8   ...9   ...0   ...1   ...2   ...3   ...4   ...5   ...6   ...7   ...8   ...9   ...0   ...1   ...2   ...3   ...4   ...5   ...6   ...7   ...8   ...9   ...0   ...1   ...2   ...3   ...4   ...5   ...6   ...7   ...8   ...9   ...0   ...1   ...2   ...3   ...4   ...5   ...6   ...7   ...8   ...9   ...0   ...1   ...2   ...3   ...4   ...5   ...6   ...7   ...8   ...9   ...0   ...1   ...2   ...3   ...4   ...5   ...6   ...7   ...8   ...9   ...0   ...1   ...2   ...3   ...4   ...5   ...6   ...7   ...8   ...9   ...0   ...1   ...2   ...3   ...4   ...5   ...6   ...7   ...8   ...9   train: 4.1499274310918225e-06+-1.0090970447473578e-06\n",
      "test: 4.390282115435297e-05+-4.445968518314494e-06\n",
      "Wall time: 5min 23s\n"
     ]
    },
    {
     "data": {
      "image/png": "[encoded data removed]",
      "text/plain": [
       "<matplotlib.figure.Figure at 0x283c0bc4cf8>"
      ]
     },
     "metadata": {},
     "output_type": "display_data"
    }
   ],
   "source": [
    "%%time\n",
    "\n",
    "for num_train in range(5):\n",
    "    loss_10 = []\n",
    "    test_loss_10 = []\n",
    "    for epoch in range(num_epochs):\n",
    "        err_epoh = []\n",
    "        test_err_epoh = []\n",
    "        len_data = 0\n",
    "        len_test_data = 0\n",
    "        idx = 0\n",
    "        for train_index, test_index in kf.split(init_data):\n",
    "            cgnet.train(X[train_index], y[train_index], epochs=1)\n",
    "\n",
    "            y_test_pred = cgnet.predict(X[test_index]).round(1)\n",
    "\n",
    "            err_epoh.append(float(cgnet.train_errors[-1]))\n",
    "            test_err_epoh.append(estimators.mse(y[test_index], y_test_pred))\n",
    "            print('...'+str(idx), end='   ')\n",
    "            idx += 1\n",
    "            len_data = len(train_index)\n",
    "            len_test_data = len(test_index)\n",
    "\n",
    "        loss_10.append(np.sum(err_epoh)/len_data)\n",
    "        test_loss_10.append(np.sum(test_err_epoh)/len_test_data)    \n",
    "        if (epoch%10 == 0):\n",
    "            plt.grid(True)\n",
    "            plt.plot(loss_10, color='b')\n",
    "            plt.plot(test_loss_10, color='g')\n",
    "\n",
    "            display.clear_output(wait=True)\n",
    "            display.display(plt.gcf())\n",
    "\n",
    "            print('Number train: {}\\nEpoch {}/{}'.format(num_train, epoch, num_epochs - 1))\n",
    "            print(\"train: \", err_epoh[epoch-1])\n",
    "            print(\"test: \", test_err_epoh[epoch-1])\n",
    "            print('-' * 10)   \n",
    "            \n",
    "    dict1['train'].append(np.mean(loss_10))\n",
    "    dict1['test'].append(np.mean(test_loss_10))\n",
    "str_res = 'train: {}+-{}\\ntest: {}+-{}'.format(np.mean(dict1['train']),\n",
    "          np.std(dict1['train']), np.mean(dict1['test']), np.std(dict1['test']))\n",
    "print(str_res)\n",
    "plt.title(str_res)\n",
    "plt.savefig(RES_DIR+name+'.png')"
   ]
  },
  {
   "cell_type": "code",
   "execution_count": 23,
   "metadata": {},
   "outputs": [
    {
     "data": {
      "image/png": "[encoded data removed]",
      "text/plain": [
       "<matplotlib.figure.Figure at 0x1f361b032b0>"
      ]
     },
     "metadata": {},
     "output_type": "display_data"
    }
   ],
   "source": [
    "y_pred = cgnet.predict(datasets['train'].data[:,:IN_SIZE]).round(1)\n",
    "\n",
    "fig = plt.figure(figsize=(16, 10))\n",
    "plt.scatter(y_pred, datasets['train'].data[:,IN_SIZE])\n",
    "plt.xlabel('y_pred')\n",
    "plt.ylabel('y_true')\n",
    "plt.show()"
   ]
  }
 ],
 "metadata": {
  "kernelspec": {
   "display_name": "Python 3",
   "language": "python",
   "name": "python3"
  },
  "language_info": {
   "codemirror_mode": {
    "name": "ipython",
    "version": 3
   },
   "file_extension": ".py",
   "mimetype": "text/x-python",
   "name": "python",
   "nbconvert_exporter": "python",
   "pygments_lexer": "ipython3",
   "version": "3.6.3"
  }
 },
 "nbformat": 4,
 "nbformat_minor": 2
}
