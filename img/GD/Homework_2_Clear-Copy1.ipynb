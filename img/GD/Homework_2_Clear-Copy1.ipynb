{
 "cells": [
  {
   "cell_type": "code",
   "execution_count": null,
   "metadata": {
    "collapsed": true
   },
   "outputs": [],
   "source": [
    "print(X_val.shape)\n",
    "print(X_train.shape, test_no_classes.shape, Y_train.shape)\n",
    "print(X_train[0], X_train[1])"
   ]
  },
  {
   "cell_type": "code",
   "execution_count": 3,
   "metadata": {
    "collapsed": true
   },
   "outputs": [],
   "source": [
    "import numpy as np\n",
    "import pandas as pd\n",
    "import random\n",
    "from IPython.core.display import Image, display\n",
    "\n",
    "import matplotlib.pyplot as plt\n",
    "%matplotlib inline\n",
    "\n",
    "np.random.seed(13)\n",
    "\n",
    "num_neuro_1 = 10\n",
    "num_neuro_2 = 10\n",
    "num_neuro_3 = 5\n",
    "\n",
    "RES_DIR = './results/'\n",
    "DATA_DIR = './CCPP/'\n",
    "HOME_DIR = './'"
   ]
  },
  {
   "cell_type": "code",
   "execution_count": 5,
   "metadata": {},
   "outputs": [
    {
     "name": "stdout",
     "output_type": "stream",
     "text": [
      "(5158, 5)\n"
     ]
    }
   ],
   "source": [
    "train = pd.read_csv(HOME_DIR+'split_data/train_set.csv').values\n",
    "batch_size = train.shape[0]\n",
    "in_size = train.shape[1]-1\n",
    "print(train.shape)"
   ]
  },
  {
   "cell_type": "code",
   "execution_count": 6,
   "metadata": {
    "collapsed": true
   },
   "outputs": [],
   "source": [
    "class Dense:\n",
    "    def __init__(self, in_size, out_size):\n",
    "        np.random.seed(11)\n",
    "        self.W = np.random.normal(scale=0.01, size=(out_size, in_size))\n",
    "        self.b = np.random.normal(scale=0.01, size=(out_size))\n",
    "        \n",
    "    def forward(self, x):\n",
    "        self.x = x\n",
    "        return (self.b + self.W.dot(self.x))\n",
    "    \n",
    "    def backward(self, dz, lr=0.001, rgr = 0.01):\n",
    "        self.dW = np.outer(dz, self.x)\n",
    "        self.db = dz\n",
    "        \n",
    "        self.dx = dz.dot(self.W) \n",
    "        \n",
    "        self.W -= lr*(self.dW + rgr*self.W)\n",
    "        self.db -= lr*(self.b + rgr*self.b)\n",
    "        \n",
    "        return self.dx"
   ]
  },
  {
   "cell_type": "code",
   "execution_count": 7,
   "metadata": {
    "collapsed": true
   },
   "outputs": [],
   "source": [
    "class ReLU:\n",
    "    def forward(self, x):\n",
    "        self.x = x\n",
    "        return np.maximum(0, x)\n",
    "    \n",
    "    def backward(self, dz):\n",
    "        dz[self.x < 0] = 0\n",
    "        return dz"
   ]
  },
  {
   "cell_type": "code",
   "execution_count": 8,
   "metadata": {
    "collapsed": true
   },
   "outputs": [],
   "source": [
    "class Softmax:\n",
    "    def forward(self, x):\n",
    "        self.x = x\n",
    "        exps = np.exp(x)\n",
    "        return exps / np.sum(exps)\n",
    "    \n",
    "    def backward(self, dz):\n",
    "        sm = self.forward(self.x)\n",
    "        self.lp = (np.eye(sm.shape[0], sm.shape[0]) - sm).T\n",
    "        self.lp2 = sm * self.lp\n",
    "        return np.dot(dz, self.lp2)"
   ]
  },
  {
   "cell_type": "code",
   "execution_count": 9,
   "metadata": {
    "collapsed": true
   },
   "outputs": [],
   "source": [
    "class Tanh():\n",
    "    def forward(self, x):\n",
    "        self.fx = (np.exp(x) - np.exp(-x)) / (np.exp(x) + np.exp(-x))\n",
    "        return (np.exp(x) - np.exp(-x)) / (np.exp(x) + np.exp(-x))\n",
    "    \n",
    "    def backward(self, dz):\n",
    "        return (1 - self.fx**2)*dz"
   ]
  },
  {
   "cell_type": "code",
   "execution_count": 21,
   "metadata": {
    "collapsed": true
   },
   "outputs": [],
   "source": [
    "class Quadratic_loss():\n",
    "    def __init__(self):\n",
    "        self.er = 0\n",
    "        \n",
    "    def forward(self, y_true, y_pred):\n",
    "        self.er = y_pred - y_true\n",
    "        self.n = y_true.shape[0]\n",
    "        return self.er**2 / self.n\n",
    "    \n",
    "    def backward(self, dz):\n",
    "        return 2/self.n * self.er"
   ]
  },
  {
   "cell_type": "code",
   "execution_count": 11,
   "metadata": {
    "collapsed": true
   },
   "outputs": [],
   "source": [
    "class CrossEntropy:\n",
    "    def forward(self, y_true, y_hat):\n",
    "        self.y_true = y_true\n",
    "        self.y_hat = y_hat\n",
    "        return (-np.sum(y_true*np.log(y_hat)))\n",
    "    \n",
    "    def backward(self, dz):\n",
    "        return (-dz*self.y_true/self.y_hat)"
   ]
  },
  {
   "cell_type": "code",
   "execution_count": 12,
   "metadata": {
    "collapsed": true
   },
   "outputs": [],
   "source": [
    "class CifarNet:\n",
    "    def __init__(self, in_size, out_size):\n",
    "        self.d1 = Dense(in_size, num_neuro_1)\n",
    "        self.r1 = Tanh()\n",
    "        self.d2 = Dense(num_neuro_1, num_neuro_2)\n",
    "        self.r2 = Tanh()\n",
    "        self.d3 = Dense (num_neuro_2, num_neuro_3)\n",
    "        self.r3 = Tanh()\n",
    "        self.d4 = Dense (num_neuro_3, out_size)\n",
    "        self.r4 = Tanh()\n",
    "    \n",
    "    def forward(self, x):\n",
    "        y = self.d1.forward(x)\n",
    "        y = self.r1.forward(y)\n",
    "        y = self.d2.forward(y)\n",
    "        y = self.r2.forward(y)\n",
    "        y = self.d3.forward(y)\n",
    "        y = self.r3.forward(y)\n",
    "        y = self.d4.forward(y)\n",
    "        y = self.r4.forward(y)\n",
    "        self.y = y\n",
    "        return y\n",
    "    \n",
    "    def backward(self, dz, lr, rr):\n",
    "        dz = self.r4.backward(dz)\n",
    "        dz = self.d4.backward(dz, lr, rr)\n",
    "        dz = self.r3.backward(dz)\n",
    "        dz = self.d3.backward(dz, lr, rr)\n",
    "        dz = self.r2.backward(dz)\n",
    "        dz = self.d2.backward(dz, lr, rr)\n",
    "        dz = self.r1.backward(dz)\n",
    "        dz = self.d1.backward(dz, lr, rr)\n",
    "        return dz"
   ]
  },
  {
   "cell_type": "code",
   "execution_count": 13,
   "metadata": {
    "collapsed": true
   },
   "outputs": [],
   "source": [
    "def acc_check(net, validation_X, validation_Y):\n",
    "    acc = 0.\n",
    "    for i in range(len(validation_X)):\n",
    "        y_pred = net.forward(validation_X[i])\n",
    "        cls_pred = np.argmax(y_pred)\n",
    "        if(cls_pred == validation_Y[i]):\n",
    "            acc += 1\n",
    "    return acc / validation_X.shape[0]\n",
    "\n",
    "# получение батча для обучения\n",
    "def get_batch(X, Y, batch_size):\n",
    "    _, x_batch, _, y_batch = train_test_split(X, Y, test_size = batch_size/X.shape[0])\n",
    "    return x_batch, y_batch"
   ]
  },
  {
   "cell_type": "code",
   "execution_count": 14,
   "metadata": {
    "collapsed": true
   },
   "outputs": [],
   "source": [
    "valid_data = pd.read_csv(HOME_DIR+'split_data/val_set.csv').values\n",
    "test_data = pd.read_csv(HOME_DIR+'split_data/test_set.csv').values\n",
    "\n",
    "X_train, Y_train = train[:, 0:in_size], train[:, in_size]\n",
    "X_val, Y_val = valid_data[:, 0:in_size], valid_data[:, in_size]\n",
    "X_test, Y_test = test_data[:, 0:in_size], test_data[:, in_size]"
   ]
  },
  {
   "cell_type": "code",
   "execution_count": 22,
   "metadata": {},
   "outputs": [
    {
     "data": {
      "text/plain": [
       "<__main__.CifarNet at 0x1b33b38e940>"
      ]
     },
     "execution_count": 22,
     "metadata": {},
     "output_type": "execute_result"
    }
   ],
   "source": [
    "net = CifarNet(in_size=in_size, out_size=1)\n",
    "net"
   ]
  },
  {
   "cell_type": "code",
   "execution_count": 23,
   "metadata": {
    "collapsed": true
   },
   "outputs": [],
   "source": [
    "\n",
    "loss = Quadratic_loss()\n",
    "\n",
    "err_epoh = []\n",
    "valid_err_epoh = []\n",
    "test_err_epoh = []\n",
    "# print(net.d1.W)"
   ]
  },
  {
   "cell_type": "code",
   "execution_count": 24,
   "metadata": {
    "collapsed": true
   },
   "outputs": [],
   "source": [
    "# обучаем сеть ... \n",
    "learn_rate = 1e1\n",
    "reg_rate = 0\n",
    "decay = 0"
   ]
  },
  {
   "cell_type": "code",
   "execution_count": 25,
   "metadata": {
    "scrolled": false
   },
   "outputs": [
    {
     "ename": "IndexError",
     "evalue": "tuple index out of range",
     "output_type": "error",
     "traceback": [
      "\u001b[1;31m---------------------------------------------------------------------------\u001b[0m",
      "\u001b[1;31mIndexError\u001b[0m                                Traceback (most recent call last)",
      "\u001b[1;32m<ipython-input-25-34b790b841fb>\u001b[0m in \u001b[0;36m<module>\u001b[1;34m()\u001b[0m\n\u001b[0;32m     20\u001b[0m     \u001b[1;32mfor\u001b[0m \u001b[0mi\u001b[0m \u001b[1;32min\u001b[0m \u001b[0mrange\u001b[0m\u001b[1;33m(\u001b[0m\u001b[0mlen\u001b[0m\u001b[1;33m(\u001b[0m\u001b[0mx\u001b[0m\u001b[1;33m)\u001b[0m\u001b[1;33m)\u001b[0m\u001b[1;33m:\u001b[0m\u001b[1;33m\u001b[0m\u001b[0m\n\u001b[0;32m     21\u001b[0m         \u001b[0my_hat\u001b[0m \u001b[1;33m=\u001b[0m \u001b[0mnet\u001b[0m\u001b[1;33m.\u001b[0m\u001b[0mforward\u001b[0m\u001b[1;33m(\u001b[0m\u001b[0mx\u001b[0m\u001b[1;33m[\u001b[0m\u001b[0mi\u001b[0m\u001b[1;33m]\u001b[0m\u001b[1;33m)\u001b[0m\u001b[1;33m\u001b[0m\u001b[0m\n\u001b[1;32m---> 22\u001b[1;33m         \u001b[0mbuffer\u001b[0m \u001b[1;33m+=\u001b[0m \u001b[0mloss\u001b[0m\u001b[1;33m.\u001b[0m\u001b[0mforward\u001b[0m\u001b[1;33m(\u001b[0m\u001b[0my\u001b[0m\u001b[1;33m[\u001b[0m\u001b[0mi\u001b[0m\u001b[1;33m]\u001b[0m\u001b[1;33m,\u001b[0m \u001b[0my_hat\u001b[0m\u001b[1;33m)\u001b[0m\u001b[1;33m\u001b[0m\u001b[0m\n\u001b[0m\u001b[0;32m     23\u001b[0m         \u001b[0mdz\u001b[0m \u001b[1;33m=\u001b[0m \u001b[0mloss\u001b[0m\u001b[1;33m.\u001b[0m\u001b[0mbackward\u001b[0m\u001b[1;33m(\u001b[0m\u001b[1;36m1\u001b[0m\u001b[1;33m)\u001b[0m\u001b[1;33m\u001b[0m\u001b[0m\n\u001b[0;32m     24\u001b[0m         \u001b[0mdz\u001b[0m \u001b[1;33m=\u001b[0m \u001b[0mnet\u001b[0m\u001b[1;33m.\u001b[0m\u001b[0mbackward\u001b[0m\u001b[1;33m(\u001b[0m\u001b[0mdz\u001b[0m\u001b[1;33m,\u001b[0m \u001b[0mlearn_rate\u001b[0m\u001b[1;33m,\u001b[0m \u001b[0mreg_rate\u001b[0m\u001b[1;33m)\u001b[0m\u001b[1;33m\u001b[0m\u001b[0m\n",
      "\u001b[1;32m<ipython-input-21-c8fc2b568a53>\u001b[0m in \u001b[0;36mforward\u001b[1;34m(self, y_true, y_pred)\u001b[0m\n\u001b[0;32m      5\u001b[0m     \u001b[1;32mdef\u001b[0m \u001b[0mforward\u001b[0m\u001b[1;33m(\u001b[0m\u001b[0mself\u001b[0m\u001b[1;33m,\u001b[0m \u001b[0my_true\u001b[0m\u001b[1;33m,\u001b[0m \u001b[0my_pred\u001b[0m\u001b[1;33m)\u001b[0m\u001b[1;33m:\u001b[0m\u001b[1;33m\u001b[0m\u001b[0m\n\u001b[0;32m      6\u001b[0m         \u001b[0mself\u001b[0m\u001b[1;33m.\u001b[0m\u001b[0mer\u001b[0m \u001b[1;33m=\u001b[0m \u001b[0my_pred\u001b[0m \u001b[1;33m-\u001b[0m \u001b[0my_true\u001b[0m\u001b[1;33m\u001b[0m\u001b[0m\n\u001b[1;32m----> 7\u001b[1;33m         \u001b[0mself\u001b[0m\u001b[1;33m.\u001b[0m\u001b[0mn\u001b[0m \u001b[1;33m=\u001b[0m \u001b[0my_true\u001b[0m\u001b[1;33m.\u001b[0m\u001b[0mshape\u001b[0m\u001b[1;33m[\u001b[0m\u001b[1;36m0\u001b[0m\u001b[1;33m]\u001b[0m\u001b[1;33m\u001b[0m\u001b[0m\n\u001b[0m\u001b[0;32m      8\u001b[0m         \u001b[1;32mreturn\u001b[0m \u001b[0mself\u001b[0m\u001b[1;33m.\u001b[0m\u001b[0mer\u001b[0m\u001b[1;33m**\u001b[0m\u001b[1;36m2\u001b[0m \u001b[1;33m/\u001b[0m \u001b[0mself\u001b[0m\u001b[1;33m.\u001b[0m\u001b[0mn\u001b[0m\u001b[1;33m\u001b[0m\u001b[0m\n\u001b[0;32m      9\u001b[0m \u001b[1;33m\u001b[0m\u001b[0m\n",
      "\u001b[1;31mIndexError\u001b[0m: tuple index out of range"
     ]
    }
   ],
   "source": [
    "for epoch in range(100000):\n",
    "    \n",
    "    if (epoch%500 == 1):\n",
    "        plt.grid(True)\n",
    "        plt.plot(err_epoh, color='r')\n",
    "        plt.plot(valid_err_epoh, color='b')\n",
    "        plt.plot(test_err_epoh, color='g')\n",
    "        \n",
    "        display.clear_output(wait=True)\n",
    "        display.display(plt.gcf())\n",
    "        \n",
    "        print(epoch)\n",
    "        print(\"train: \", err_epoh[epoch-1])\n",
    "        print(\"valid: \", valid_err_epoh[epoch-1])\n",
    "        print(\"test: \", test_err_epoh[epoch-1])\n",
    "    \n",
    "    buffer = 0\n",
    "    #x, y = get_batch(X_train, Y_train, batch_size)\\\n",
    "    x, y = X_train, Y_train\n",
    "    for i in range(len(x)):\n",
    "        y_hat = net.forward(x[i])\n",
    "        buffer += loss.forward(y[i], y_hat)\n",
    "        dz = loss.backward(1)\n",
    "        dz = net.backward(dz, learn_rate, reg_rate)\n",
    "    buffer /= len(x)\n",
    "    err_epoh.append(buffer)\n",
    "    \n",
    "    \n",
    "    x, y = X_val, Y_val\n",
    "    for i in range(len(x)):\n",
    "        y_hat = net.forward(x[i])\n",
    "        buffer += loss.forward(y[i], y_hat)\n",
    "        dz = loss.backward(1)\n",
    "        dz = net.backward(dz, learn_rate, reg_rate)\n",
    "    buffer /= len(x)\n",
    "    valid_err_epoh.append(buffer)\n",
    "    \n",
    "    \n",
    "    x, y = X_test, Y_test\n",
    "    for i in range(len(x)):\n",
    "        y_hat = net.forward(x[i])\n",
    "        buffer += loss.forward(y[i], y_hat)\n",
    "        dz = loss.backward(1)\n",
    "        dz = net.backward(dz, learn_rate, reg_rate)\n",
    "    buffer /= len(x)\n",
    "    test_err_epoh.append(buffer)\n",
    "    \n",
    "\n",
    "plt.plot(loss_list)\n",
    "plt.show()"
   ]
  },
  {
   "cell_type": "code",
   "execution_count": 42,
   "metadata": {},
   "outputs": [
    {
     "name": "stdout",
     "output_type": "stream",
     "text": [
      "2.1815008726003495e-05\n"
     ]
    }
   ],
   "source": [
    "#learn_rate = 1e-3\n",
    "print(learn_rate)\n"
   ]
  },
  {
   "cell_type": "code",
   "execution_count": 53,
   "metadata": {
    "collapsed": true
   },
   "outputs": [],
   "source": [
    "def make_solution(net, test_no_classes):\n",
    "    res = []\n",
    "    for data in test_no_classes:\n",
    "        predict = np.argmax(net.forward(data))\n",
    "        res.append(predict)\n",
    "    return res"
   ]
  },
  {
   "cell_type": "code",
   "execution_count": 54,
   "metadata": {
    "collapsed": true
   },
   "outputs": [],
   "source": [
    "solution = make_solution(net, test_no_classes)\n",
    "with open('my_solution.csv', 'w') as fout:\n",
    "    print('Id', 'Prediction', sep=',', file=fout)\n",
    "    for i, prediction in enumerate(solution):\n",
    "        print(i, prediction, sep=',', file=fout)"
   ]
  },
  {
   "cell_type": "code",
   "execution_count": null,
   "metadata": {
    "collapsed": true
   },
   "outputs": [],
   "source": []
  }
 ],
 "metadata": {
  "kernelspec": {
   "display_name": "Python 3",
   "language": "python",
   "name": "python3"
  },
  "language_info": {
   "codemirror_mode": {
    "name": "ipython",
    "version": 3
   },
   "file_extension": ".py",
   "mimetype": "text/x-python",
   "name": "python",
   "nbconvert_exporter": "python",
   "pygments_lexer": "ipython3",
   "version": "3.6.3"
  }
 },
 "nbformat": 4,
 "nbformat_minor": 2
}
