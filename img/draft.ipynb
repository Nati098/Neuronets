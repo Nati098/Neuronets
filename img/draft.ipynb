{
 "cells": [
  {
   "cell_type": "code",
   "execution_count": null,
   "metadata": {
    "collapsed": true
   },
   "outputs": [],
   "source": [
    "# преобразование входв и выходов\n",
    "from sklearn.decomposition import PCA\n",
    "\n",
    "pca = PCA()\n",
    "X_data = pca.fit_transform(X=X_data[[feat for feat in X_data.columns[0:5]]])\n",
    "dict1 = {'AT': list(X_data[:, 0]), 'V': list(X_data[:, 1]),\n",
    "         'AP': list(X_data[:, 2]), 'RH': list(X_data[:, 3]), \n",
    "         'PE': list(X_data[:, 4])}\n",
    "X_data = pd.DataFrame(dict1)\n",
    "print(X_data.info())\n",
    "\n",
    "a=False\n",
    "if a:\n",
    "    general_visual(X_data, RES_DIR+'after_pca/'+'after_')\n",
    "\n",
    "# очистка данных\n",
    "# обнаружение, устранение дубликатов\n",
    "X_data=X_data.drop_duplicates(keep='first')\n",
    "print(X_data.info())\n",
    "# -ii-ii- выбросов\n",
    "for feat in X_data.columns:\n",
    "    q1 = X_data[feat].quantile(0.99)\n",
    "    q2 = X_data[feat].quantile(0.01)\n",
    "    X_data=X_data[X_data[feat] < q1]\n",
    "    X_data=X_data[X_data[feat] > q2]\n",
    "print(X_data.info())\n",
    "# пропущенные значения\n",
    "X_data=X_data.dropna()\n",
    "print(X_data.info())\n",
    "\n",
    "a=False\n",
    "if a:\n",
    "    general_visual(X_data, RES_DIR+'after_pca/'+'after_clean_')"
   ]
  },
  {
   "cell_type": "code",
   "execution_count": null,
   "metadata": {
    "collapsed": true
   },
   "outputs": [],
   "source": [
    "from sklearn.preprocessing import normalize\n",
    "\n",
    "X_data = normalize(X_data, norm='l2')\n",
    "dict1 = {'AT': list(X_data[:, 0]), 'V': list(X_data[:, 1]),\n",
    "         'AP': list(X_data[:, 2]), 'RH': list(X_data[:, 3]), \n",
    "         'PE': list(X_data[:, 4])}\n",
    "X_data = pd.DataFrame(dict1)\n",
    "\n",
    "a=True\n",
    "if a:\n",
    "    general_visual(X_data, RES_DIR+'after_norm/')"
   ]
  },
  {
   "cell_type": "code",
   "execution_count": null,
   "metadata": {
    "collapsed": true
   },
   "outputs": [],
   "source": [
    "from sklearn.preprocessing import Normalizer  \n",
    "from scipy.stats import shapiro\n",
    "\n",
    "for feat in X_data.columns:\n",
    "    print(feat+\":\\n\", shapiro(X_data[feat].values.reshape(-1, 1)))\n",
    "    print(shapiro(Normalizer().fit_transform(X_data[feat].values.reshape(-1, 1))))\n",
    "# ВЫВОД: \n",
    "\n",
    "X_data = Normalizer().fit_transform(X_data)\n",
    "dict1 = {'AT': list(X_data[:, 0]), 'V': list(X_data[:, 1]),\n",
    "         'AP': list(X_data[:, 2]), 'RH': list(X_data[:, 3]), \n",
    "         'PE': list(X_data[:, 4])}\n",
    "X_data = pd.DataFrame(dict1)\n",
    "\n",
    "a=True\n",
    "if a:\n",
    "    general_visual(X_data, RES_DIR+'after_norm/', corr=True)"
   ]
  },
  {
   "cell_type": "code",
   "execution_count": null,
   "metadata": {
    "collapsed": true
   },
   "outputs": [],
   "source": [
    "from sklearn.feature_selection import SelectKBest\n",
    "from sklearn.feature_selection import mutual_info_regression\n",
    "X, y = X_data[['AT', 'V', 'AP', 'RH']], X_data[['PE']]\n",
    "X.shape\n",
    "\n",
    "X_new = SelectKBest(mutual_info_regression, k=3).fit_transform(X, y)\n",
    "X_new"
   ]
  },
  {
   "cell_type": "code",
   "execution_count": null,
   "metadata": {
    "collapsed": true
   },
   "outputs": [],
   "source": [
    "from sklearn.feature_selection import VarianceThreshold\n",
    "\n",
    "print('{}: {}'.format(0.7, VarianceThreshold(0.7).fit_transform(X_data[['AT', 'V', 'AP', 'RH']])))\n",
    "print('{}: {}'.format(0.8, VarianceThreshold(0.8).fit_transform(X_data[['AT', 'V', 'AP', 'RH']])))\n",
    "print('{}: {}'.format(0.9, VarianceThreshold(0.9).fit_transform(X_data[['AT', 'V', 'AP', 'RH']])))\n",
    "print('{}: {}'.format(0.99, VarianceThreshold(0.99).fit_transform(X_data[['AT', 'V', 'AP', 'RH']])))\n",
    "print('{}: {}'.format(1.0, VarianceThreshold(1.0).fit_transform(X_data[['AT', 'V', 'AP', 'RH']])))"
   ]
  },
  {
   "cell_type": "markdown",
   "metadata": {},
   "source": [
    "-----------------------------------------"
   ]
  },
  {
   "cell_type": "code",
   "execution_count": null,
   "metadata": {
    "collapsed": true
   },
   "outputs": [],
   "source": [
    "from sklearn.model_selection import train_test_split# деление на обуч., вал. и тест.\n",
    "X, X_val = train_test_split(X_data[['AT', 'V', 'AP', 'RH', 'PE']], test_size=0.4, random_state=21)\n",
    "X_val, X_test = train_test_split(X_val, test_size=0.25, random_state=11)\n",
    "\n",
    "print(X_data.shape, X.shape, X_val.shape, X_test.shape)"
   ]
  },
  {
   "cell_type": "code",
   "execution_count": null,
   "metadata": {
    "collapsed": true
   },
   "outputs": [],
   "source": [
    "get_etr(X)\n",
    "get_etr(X_val)\n",
    "get_etr(X_test)"
   ]
  },
  {
   "cell_type": "code",
   "execution_count": null,
   "metadata": {
    "collapsed": true
   },
   "outputs": [],
   "source": [
    "X_val = scaling(X_val, name='val', a=False)\n",
    "\n",
    "X = pca_method(X, a=True)\n",
    "X_val = pca_method(X_val, a = False)\n",
    "X_test = pca_method(X_test, a=False)"
   ]
  },
  {
   "cell_type": "code",
   "execution_count": null,
   "metadata": {
    "collapsed": true
   },
   "outputs": [],
   "source": [
    "train_set = pd.concat([X, y], axis=1)\n",
    "val_set = pd.concat([X_val, y_val], axis=1)\n",
    "test_set = pd.concat([X_test, y_test], axis=1)\n",
    "\n",
    "a = True\n",
    "if a:\n",
    "    train_set.to_csv(HOME_DIR+'split_data/train_set.csv', index=False)\n",
    "    val_set.to_csv(HOME_DIR+'split_data/val_set.csv', index=False)\n",
    "    test_set.to_csv(HOME_DIR+'split_data/test_set.csv', index=False)"
   ]
  },
  {
   "cell_type": "code",
   "execution_count": null,
   "metadata": {
    "collapsed": true
   },
   "outputs": [],
   "source": [
    "from sklearn.decomposition import FastICA\n",
    "\n",
    "def ica_method(X_data, a=True):\n",
    "    Y = list(X_data['PE'])\n",
    "    ica = FastICA()\n",
    "    X_data = ica.fit_transform(X=X_data[[feat for feat in X_data.columns[0:4]]])\n",
    "    dict1 = {'AT': list(X_data[:, 0]), 'V': list(X_data[:, 1]),\n",
    "             'AP': list(X_data[:, 2]), 'RH': list(X_data[:, 3]),\n",
    "            'PE': Y}\n",
    "    X_data = pd.DataFrame(dict1)\n",
    "    print(X_data.info())\n",
    "\n",
    "    if a:\n",
    "        general_visual(X_data, RES_DIR+'after_ica/'+'after_', corr=True)\n",
    "        general_visual(X_data[['AT', 'V', 'AP', 'RH']], RES_DIR+'after_ica/'+'after_2_', corr=True)\n",
    "        \n",
    "    return X_data"
   ]
  },
  {
   "cell_type": "code",
   "execution_count": null,
   "metadata": {
    "collapsed": true
   },
   "outputs": [],
   "source": [
    "#из def scaling:\n",
    "dict1 = {}\n",
    "    if len(feat_list) == 4:\n",
    "        dict1 = {'AT': list(X_data[:, 0]), 'V': list(X_data[:, 1]),\n",
    "                 'AP': list(X_data[:, 2]), 'RH': list(X_data[:, 3])}    \n",
    "        X_data = pd.concat([pd.DataFrame(dict1), X_data['PE']], axis=1)\n",
    "    else:\n",
    "        dict1 = {'AT': list(X_data[:, 0]), 'V': list(X_data[:, 1]),\n",
    "                 'AP': list(X_data[:, 2]), 'RH': list(X_data[:, 3]), \n",
    "                 'PE': list(X_data[:, 4])}  \n",
    "        X_data = pd.DataFrame(dict1)\""
   ]
  },
  {
   "cell_type": "code",
   "execution_count": null,
   "metadata": {
    "collapsed": true
   },
   "outputs": [],
   "source": []
  }
 ],
 "metadata": {
  "kernelspec": {
   "display_name": "Python 3",
   "language": "python",
   "name": "python3"
  },
  "language_info": {
   "codemirror_mode": {
    "name": "ipython",
    "version": 3
   },
   "file_extension": ".py",
   "mimetype": "text/x-python",
   "name": "python",
   "nbconvert_exporter": "python",
   "pygments_lexer": "ipython3",
   "version": "3.6.3"
  }
 },
 "nbformat": 4,
 "nbformat_minor": 2
}
